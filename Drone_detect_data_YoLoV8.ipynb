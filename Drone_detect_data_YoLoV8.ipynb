{
  "cells": [
    {
      "cell_type": "markdown",
      "metadata": {
        "id": "view-in-github",
        "colab_type": "text"
      },
      "source": [
        "<a href=\"https://colab.research.google.com/github/MikLay/drone-detection/blob/main/Drone_detect_data_YoLoV8.ipynb\" target=\"_parent\"><img src=\"https://colab.research.google.com/assets/colab-badge.svg\" alt=\"Open In Colab\"/></a>"
      ]
    },
    {
      "cell_type": "markdown",
      "metadata": {
        "id": "9KA_8D0baRg4"
      },
      "source": [
        "# Experiment #2 est YOLOv8\n",
        "To train YoLov8/n/s/m/l:\n",
        "\n",
        "* Install YOLOv8 dependencies\n",
        "* Download custom YOLOv8 object detection data\n",
        "* Write YOLOv8 Training configuration\n",
        "* Run YOLOv8 training\n",
        "* Evaluate YOLOv8 performance\n",
        "* Compare Precision, Reecall, Inference time\n",
        "  * Friedman tests\n",
        "  * Nemenyi test\n",
        "* Export saved YOLOv8 weights for future inference"
      ]
    },
    {
      "cell_type": "markdown",
      "metadata": {
        "id": "y372tGsHauOY"
      },
      "source": [
        "#Install Dependencies\n",
        "\n",
        "_(Remember to choose GPU in Runtime if not already selected. Runtime --> Change Runtime Type --> Hardware accelerator --> GPU)_"
      ]
    },
    {
      "cell_type": "code",
      "execution_count": 1,
      "metadata": {
        "colab": {
          "base_uri": "https://localhost:8080/"
        },
        "id": "3BmFAnuWYBhT",
        "outputId": "97de4530-6fab-4fb0-dbc5-6bbed5c57f79"
      },
      "outputs": [
        {
          "output_type": "stream",
          "name": "stderr",
          "text": [
            "Ultralytics YOLOv8.0.114 🚀 Python-3.10.11 torch-2.0.1+cu118 CUDA:0 (Tesla T4, 15102MiB)\n",
            "Setup complete ✅ (4 CPUs, 25.5 GB RAM, 23.3/166.8 GB disk)\n"
          ]
        }
      ],
      "source": [
        "%pip install ultralytics\n",
        "import ultralytics\n",
        "ultralytics.checks()"
      ]
    },
    {
      "cell_type": "markdown",
      "metadata": {
        "id": "kyLXG35caw-J"
      },
      "source": [
        "# Download Correctly Formatted Custom Dataset \n",
        "\n",
        "We'll download our dataset from Roboflow. Use the \"**YOLOv5 PyTorch**\" export format. Note that the Ultralytics implementation calls for a YAML file defining where your training and test data is. The Roboflow export also writes this format for us.\n",
        "\n",
        "To get your data into Roboflow, follow the [Getting Started Guide](https://blog.roboflow.ai/getting-started-with-roboflow/)."
      ]
    },
    {
      "cell_type": "markdown",
      "metadata": {
        "id": "I2MwYHvca1nS"
      },
      "source": []
    },
    {
      "cell_type": "code",
      "execution_count": 2,
      "metadata": {
        "colab": {
          "base_uri": "https://localhost:8080/",
          "height": 1000
        },
        "id": "xg0EAFbijdYw",
        "outputId": "20c93204-e36f-4c21-b6c1-72a25707ce8a"
      },
      "outputs": [
        {
          "output_type": "stream",
          "name": "stdout",
          "text": [
            "Looking in indexes: https://pypi.org/simple, https://us-python.pkg.dev/colab-wheels/public/simple/\n",
            "Collecting roboflow\n",
            "  Downloading roboflow-1.0.9-py3-none-any.whl (56 kB)\n",
            "\u001b[2K     \u001b[90m━━━━━━━━━━━━━━━━━━━━━━━━━━━━━━━━━━━━━━━━\u001b[0m \u001b[32m56.3/56.3 kB\u001b[0m \u001b[31m4.4 MB/s\u001b[0m eta \u001b[36m0:00:00\u001b[0m\n",
            "\u001b[?25hRequirement already satisfied: certifi==2022.12.7 in /usr/local/lib/python3.10/dist-packages (from roboflow) (2022.12.7)\n",
            "Requirement already satisfied: chardet==4.0.0 in /usr/local/lib/python3.10/dist-packages (from roboflow) (4.0.0)\n",
            "Collecting cycler==0.10.0 (from roboflow)\n",
            "  Downloading cycler-0.10.0-py2.py3-none-any.whl (6.5 kB)\n",
            "Collecting idna==2.10 (from roboflow)\n",
            "  Downloading idna-2.10-py2.py3-none-any.whl (58 kB)\n",
            "\u001b[2K     \u001b[90m━━━━━━━━━━━━━━━━━━━━━━━━━━━━━━━━━━━━━━━━\u001b[0m \u001b[32m58.8/58.8 kB\u001b[0m \u001b[31m6.6 MB/s\u001b[0m eta \u001b[36m0:00:00\u001b[0m\n",
            "\u001b[?25hRequirement already satisfied: kiwisolver>=1.3.1 in /usr/local/lib/python3.10/dist-packages (from roboflow) (1.4.4)\n",
            "Requirement already satisfied: matplotlib in /usr/local/lib/python3.10/dist-packages (from roboflow) (3.7.1)\n",
            "Requirement already satisfied: numpy>=1.18.5 in /usr/local/lib/python3.10/dist-packages (from roboflow) (1.22.4)\n",
            "Requirement already satisfied: opencv-python>=4.1.2 in /usr/local/lib/python3.10/dist-packages (from roboflow) (4.7.0.72)\n",
            "Requirement already satisfied: Pillow>=7.1.2 in /usr/local/lib/python3.10/dist-packages (from roboflow) (8.4.0)\n",
            "Collecting pyparsing==2.4.7 (from roboflow)\n",
            "  Downloading pyparsing-2.4.7-py2.py3-none-any.whl (67 kB)\n",
            "\u001b[2K     \u001b[90m━━━━━━━━━━━━━━━━━━━━━━━━━━━━━━━━━━━━━━━━\u001b[0m \u001b[32m67.8/67.8 kB\u001b[0m \u001b[31m9.4 MB/s\u001b[0m eta \u001b[36m0:00:00\u001b[0m\n",
            "\u001b[?25hRequirement already satisfied: python-dateutil in /usr/local/lib/python3.10/dist-packages (from roboflow) (2.8.2)\n",
            "Collecting python-dotenv (from roboflow)\n",
            "  Downloading python_dotenv-1.0.0-py3-none-any.whl (19 kB)\n",
            "Requirement already satisfied: requests in /usr/local/lib/python3.10/dist-packages (from roboflow) (2.27.1)\n",
            "Requirement already satisfied: six in /usr/local/lib/python3.10/dist-packages (from roboflow) (1.16.0)\n",
            "Requirement already satisfied: urllib3>=1.26.6 in /usr/local/lib/python3.10/dist-packages (from roboflow) (1.26.15)\n",
            "Collecting wget (from roboflow)\n",
            "  Downloading wget-3.2.zip (10 kB)\n",
            "  Preparing metadata (setup.py) ... \u001b[?25l\u001b[?25hdone\n",
            "Requirement already satisfied: tqdm>=4.41.0 in /usr/local/lib/python3.10/dist-packages (from roboflow) (4.65.0)\n",
            "Requirement already satisfied: PyYAML>=5.3.1 in /usr/local/lib/python3.10/dist-packages (from roboflow) (6.0)\n",
            "Collecting requests-toolbelt (from roboflow)\n",
            "  Downloading requests_toolbelt-1.0.0-py2.py3-none-any.whl (54 kB)\n",
            "\u001b[2K     \u001b[90m━━━━━━━━━━━━━━━━━━━━━━━━━━━━━━━━━━━━━━━━\u001b[0m \u001b[32m54.5/54.5 kB\u001b[0m \u001b[31m7.2 MB/s\u001b[0m eta \u001b[36m0:00:00\u001b[0m\n",
            "\u001b[?25hRequirement already satisfied: contourpy>=1.0.1 in /usr/local/lib/python3.10/dist-packages (from matplotlib->roboflow) (1.0.7)\n",
            "Requirement already satisfied: fonttools>=4.22.0 in /usr/local/lib/python3.10/dist-packages (from matplotlib->roboflow) (4.39.3)\n",
            "Requirement already satisfied: packaging>=20.0 in /usr/local/lib/python3.10/dist-packages (from matplotlib->roboflow) (23.1)\n",
            "Requirement already satisfied: charset-normalizer~=2.0.0 in /usr/local/lib/python3.10/dist-packages (from requests->roboflow) (2.0.12)\n",
            "Building wheels for collected packages: wget\n",
            "  Building wheel for wget (setup.py) ... \u001b[?25l\u001b[?25hdone\n",
            "  Created wheel for wget: filename=wget-3.2-py3-none-any.whl size=9657 sha256=cdd986fd5eb3425291004bd4da922c4de1d0b62104fcecf4aae649cb3567874e\n",
            "  Stored in directory: /root/.cache/pip/wheels/8b/f1/7f/5c94f0a7a505ca1c81cd1d9208ae2064675d97582078e6c769\n",
            "Successfully built wget\n",
            "Installing collected packages: wget, python-dotenv, pyparsing, idna, cycler, requests-toolbelt, roboflow\n",
            "  Attempting uninstall: pyparsing\n",
            "    Found existing installation: pyparsing 3.0.9\n",
            "    Uninstalling pyparsing-3.0.9:\n",
            "      Successfully uninstalled pyparsing-3.0.9\n",
            "  Attempting uninstall: idna\n",
            "    Found existing installation: idna 3.4\n",
            "    Uninstalling idna-3.4:\n",
            "      Successfully uninstalled idna-3.4\n",
            "  Attempting uninstall: cycler\n",
            "    Found existing installation: cycler 0.11.0\n",
            "    Uninstalling cycler-0.11.0:\n",
            "      Successfully uninstalled cycler-0.11.0\n",
            "Successfully installed cycler-0.10.0 idna-2.10 pyparsing-2.4.7 python-dotenv-1.0.0 requests-toolbelt-1.0.0 roboflow-1.0.9 wget-3.2\n"
          ]
        },
        {
          "output_type": "display_data",
          "data": {
            "application/vnd.colab-display-data+json": {
              "pip_warning": {
                "packages": [
                  "cycler",
                  "idna",
                  "pyparsing"
                ]
              }
            }
          },
          "metadata": {}
        },
        {
          "output_type": "stream",
          "name": "stdout",
          "text": [
            "loading Roboflow workspace...\n",
            "loading Roboflow project...\n",
            "Dependency ultralytics<=8.0.20 is required but found version=8.0.114, to fix: `pip install ultralytics<=8.0.20`\n",
            "Exporting format yolov8 in progress : 85.0%\n",
            "Version export complete for yolov8 format\n",
            "Downloading Dataset Version Zip in UAVs-hunting-simulated-1 to yolov8: 100% [105615778 / 105615778] bytes\n"
          ]
        },
        {
          "output_type": "stream",
          "name": "stderr",
          "text": [
            "Extracting Dataset Version Zip to UAVs-hunting-simulated-1 in yolov8:: 100%|██████████| 5034/5034 [00:00<00:00, 8284.32it/s]\n"
          ]
        }
      ],
      "source": [
        "#follow the link below to get your download code from from Roboflow\n",
        "!pip install roboflow\n",
        "\n",
        "from roboflow import Roboflow\n",
        "rf = Roboflow(api_key=\"\")\n",
        "project = rf.workspace(\"uavs-hunter\").project(\"uavs-hunting-simulated\")\n",
        "dataset = project.version(1).download(\"yolov8\")"
      ]
    },
    {
      "cell_type": "code",
      "execution_count": 3,
      "metadata": {
        "colab": {
          "base_uri": "https://localhost:8080/"
        },
        "id": "3YQK4oZojzoL",
        "outputId": "4394e11a-a8d1-4673-bb99-78d6e8b7088f"
      },
      "outputs": [
        {
          "output_type": "stream",
          "name": "stdout",
          "text": [
            "names:\n",
            "- '0'\n",
            "- drone\n",
            "nc: 2\n",
            "roboflow:\n",
            "  license: CC BY 4.0\n",
            "  project: uavs-hunting-simulated\n",
            "  url: https://universe.roboflow.com/uavs-hunter/uavs-hunting-simulated/dataset/1\n",
            "  version: 1\n",
            "  workspace: uavs-hunter\n",
            "test: test/images\n",
            "train: train/images\n",
            "val: valid/images\n"
          ]
        }
      ],
      "source": [
        "# this is the YAML file Roboflow wrote for us that we're loading into this notebook with our data\n",
        "%cat {dataset.location}/data.yaml"
      ]
    },
    {
      "cell_type": "markdown",
      "source": [
        "## Select YOLOv5 🚀 logger"
      ],
      "metadata": {
        "id": "71juJwWnkI3v"
      }
    },
    {
      "cell_type": "code",
      "source": [
        "#@title Select YOLOv5 🚀 logger {run: 'auto'}\n",
        "%pip install -q clearml\n",
        "import clearml; clearml.browser_login()"
      ],
      "metadata": {
        "colab": {
          "base_uri": "https://localhost:8080/",
          "height": 71
        },
        "id": "A9y9wSMtkIcp",
        "outputId": "0cfee33e-106a-4b6b-9a92-3670ed83db43"
      },
      "execution_count": 3,
      "outputs": [
        {
          "output_type": "stream",
          "name": "stdout",
          "text": [
            "\u001b[?25l     \u001b[90m━━━━━━━━━━━━━━━━━━━━━━━━━━━━━━━━━━━━━━━━\u001b[0m \u001b[32m0.0/1.1 MB\u001b[0m \u001b[31m?\u001b[0m eta \u001b[36m-:--:--\u001b[0m\r\u001b[2K     \u001b[91m━━━━━━━━━━━━━━━━━━━━━━━━━━━━━━━━━━━━━━━\u001b[0m\u001b[91m╸\u001b[0m \u001b[32m1.1/1.1 MB\u001b[0m \u001b[31m45.2 MB/s\u001b[0m eta \u001b[36m0:00:01\u001b[0m\r\u001b[2K     \u001b[90m━━━━━━━━━━━━━━━━━━━━━━━━━━━━━━━━━━━━━━━━\u001b[0m \u001b[32m1.1/1.1 MB\u001b[0m \u001b[31m30.9 MB/s\u001b[0m eta \u001b[36m0:00:00\u001b[0m\n",
            "\u001b[?25h"
          ]
        },
        {
          "output_type": "display_data",
          "data": {
            "text/plain": [
              "<IPython.core.display.Javascript object>"
            ],
            "application/javascript": [
              "\n",
              "                    window._ApiKey = new Promise((resolve, reject) => {\n",
              "                        const timeout = setTimeout(() => reject(\"Failed authenticating existing browser session\"), 5000)\n",
              "                        fetch(\"https://app.clear.ml/api/auth.login\", {\n",
              "                          method: 'GET',\n",
              "                          credentials: 'include'\n",
              "                        })\n",
              "                          .then((response) => resolve(response.json()))\n",
              "                          .then((json) => {\n",
              "                            clearTimeout(timeout);\n",
              "                          }).catch((err) => {\n",
              "                            clearTimeout(timeout);\n",
              "                            reject(err);\n",
              "                        });\n",
              "                    });\n",
              "                    "
            ]
          },
          "metadata": {}
        },
        {
          "output_type": "stream",
          "name": "stdout",
          "text": [
            "\n",
            "🤖 ClearML connected successfully - let's build something! 🚀\n"
          ]
        }
      ]
    },
    {
      "cell_type": "code",
      "source": [
        "# Initialize project\n",
        "from clearml import Task"
      ],
      "metadata": {
        "id": "OIxIapDQDXR5"
      },
      "execution_count": 4,
      "outputs": []
    },
    {
      "cell_type": "markdown",
      "metadata": {
        "id": "uhdTEqxsnL3m"
      },
      "source": [
        "# Train Custom YOLOv5 Detector\n",
        "\n",
        "### Next, we'll fire off trainings!\n",
        "\n",
        "\n",
        "Here, we are able to pass a number of arguments:\n",
        "- **img:** define input image size\n",
        "- **batch:** determine batch size\n",
        "- **epochs:** define the number of training epochs. (Note: often, 3000+ are common here!)\n",
        "- **data:** set the path to our yaml file\n",
        "- **weights:** specify a custom path to weights. (Note: you can download weights from the Ultralytics Google Drive [folder](https://drive.google.com/open?id=1Drs_Aiu7xx6S-ix95f9kNsA6ueKRpN2J))\n",
        "- **name:** result names\n",
        "- **nosave:** only save the final checkpoint\n",
        "- **cache:** cache images for faster training"
      ]
    },
    {
      "cell_type": "code",
      "source": [
        "# general configs\n",
        "img = 640\n",
        "batch = 16\n",
        "epochs = 100"
      ],
      "metadata": {
        "id": "Gm07UHbl-tAH"
      },
      "execution_count": 8,
      "outputs": []
    },
    {
      "cell_type": "markdown",
      "source": [
        "### YoLoV8n"
      ],
      "metadata": {
        "id": "qDD_FWNkMc54"
      }
    },
    {
      "cell_type": "code",
      "source": [
        "task1 = Task.init(project_name='Drone-detect/best-model', task_name='YoloV8n')"
      ],
      "metadata": {
        "colab": {
          "base_uri": "https://localhost:8080/"
        },
        "id": "4juCotwxKyjX",
        "outputId": "616e63a6-e06a-44ae-d2f0-9957b8475c6e"
      },
      "execution_count": 9,
      "outputs": [
        {
          "output_type": "stream",
          "name": "stdout",
          "text": [
            "ClearML Task: created new task id=a0cdf6685367470fb69e6afb8e69b916\n"
          ]
        },
        {
          "output_type": "stream",
          "name": "stderr",
          "text": [
            "WARNING:tensorflow:Please fix your imports. Module tensorflow.python.training.tracking.util has been moved to tensorflow.python.checkpoint.checkpoint. The old module will be deleted in version 2.11.\n"
          ]
        },
        {
          "output_type": "stream",
          "name": "stdout",
          "text": [
            "ClearML results page: https://app.clear.ml/projects/3447e370f16d49f09a6eec0b62466e5a/experiments/a0cdf6685367470fb69e6afb8e69b916/output/log\n"
          ]
        }
      ]
    },
    {
      "cell_type": "code",
      "execution_count": 10,
      "metadata": {
        "colab": {
          "base_uri": "https://localhost:8080/"
        },
        "id": "XqxA8qIJnBjs",
        "outputId": "ad8ff5dc-e2f0-4e21-ba77-a5859648a802"
      },
      "outputs": [
        {
          "output_type": "stream",
          "name": "stdout",
          "text": [
            "Downloading https://github.com/ultralytics/assets/releases/download/v0.0.0/yolov8n.pt to yolov8n.pt...\n",
            "100% 6.23M/6.23M [00:00<00:00, 82.4MB/s]\n",
            "Ultralytics YOLOv8.0.114 🚀 Python-3.10.11 torch-2.0.1+cu118 CUDA:0 (Tesla T4, 15102MiB)\n",
            "\u001b[34m\u001b[1myolo/engine/trainer: \u001b[0mtask=detect, mode=train, model=yolov8n.pt, data=/content/UAVs-hunting-1/data.yaml, epochs=100, patience=50, batch=16, imgsz=640, save=True, save_period=-1, cache=False, device=None, workers=8, project=None, name=None, exist_ok=False, pretrained=False, optimizer=auto, verbose=True, seed=0, deterministic=True, single_cls=False, rect=False, cos_lr=False, close_mosaic=0, resume=False, amp=True, fraction=1.0, profile=False, overlap_mask=True, mask_ratio=4, dropout=0.0, val=True, split=val, save_json=False, save_hybrid=False, conf=None, iou=0.7, max_det=300, half=False, dnn=False, plots=True, source=None, show=False, save_txt=False, save_conf=False, save_crop=False, show_labels=True, show_conf=True, vid_stride=1, line_width=None, visualize=False, augment=False, agnostic_nms=False, classes=None, retina_masks=False, boxes=True, format=torchscript, keras=False, optimize=False, int8=False, dynamic=False, simplify=False, opset=None, workspace=4, nms=False, lr0=0.01, lrf=0.01, momentum=0.937, weight_decay=0.0005, warmup_epochs=3.0, warmup_momentum=0.8, warmup_bias_lr=0.1, box=7.5, cls=0.5, dfl=1.5, pose=12.0, kobj=1.0, label_smoothing=0.0, nbs=64, hsv_h=0.015, hsv_s=0.7, hsv_v=0.4, degrees=0.0, translate=0.1, scale=0.5, shear=0.0, perspective=0.0, flipud=0.0, fliplr=0.5, mosaic=1.0, mixup=0.0, copy_paste=0.0, cfg=None, v5loader=False, tracker=botsort.yaml, save_dir=runs/detect/train\n",
            "Downloading https://ultralytics.com/assets/Arial.ttf to /root/.config/Ultralytics/Arial.ttf...\n",
            "100% 755k/755k [00:00<00:00, 17.3MB/s]\n",
            "Overriding model.yaml nc=80 with nc=1\n",
            "\n",
            "                   from  n    params  module                                       arguments                     \n",
            "  0                  -1  1       464  ultralytics.nn.modules.conv.Conv             [3, 16, 3, 2]                 \n",
            "  1                  -1  1      4672  ultralytics.nn.modules.conv.Conv             [16, 32, 3, 2]                \n",
            "  2                  -1  1      7360  ultralytics.nn.modules.block.C2f             [32, 32, 1, True]             \n",
            "  3                  -1  1     18560  ultralytics.nn.modules.conv.Conv             [32, 64, 3, 2]                \n",
            "  4                  -1  2     49664  ultralytics.nn.modules.block.C2f             [64, 64, 2, True]             \n",
            "  5                  -1  1     73984  ultralytics.nn.modules.conv.Conv             [64, 128, 3, 2]               \n",
            "  6                  -1  2    197632  ultralytics.nn.modules.block.C2f             [128, 128, 2, True]           \n",
            "  7                  -1  1    295424  ultralytics.nn.modules.conv.Conv             [128, 256, 3, 2]              \n",
            "  8                  -1  1    460288  ultralytics.nn.modules.block.C2f             [256, 256, 1, True]           \n",
            "  9                  -1  1    164608  ultralytics.nn.modules.block.SPPF            [256, 256, 5]                 \n",
            " 10                  -1  1         0  torch.nn.modules.upsampling.Upsample         [None, 2, 'nearest']          \n",
            " 11             [-1, 6]  1         0  ultralytics.nn.modules.conv.Concat           [1]                           \n",
            " 12                  -1  1    148224  ultralytics.nn.modules.block.C2f             [384, 128, 1]                 \n",
            " 13                  -1  1         0  torch.nn.modules.upsampling.Upsample         [None, 2, 'nearest']          \n",
            " 14             [-1, 4]  1         0  ultralytics.nn.modules.conv.Concat           [1]                           \n",
            " 15                  -1  1     37248  ultralytics.nn.modules.block.C2f             [192, 64, 1]                  \n",
            " 16                  -1  1     36992  ultralytics.nn.modules.conv.Conv             [64, 64, 3, 2]                \n",
            " 17            [-1, 12]  1         0  ultralytics.nn.modules.conv.Concat           [1]                           \n",
            " 18                  -1  1    123648  ultralytics.nn.modules.block.C2f             [192, 128, 1]                 \n",
            " 19                  -1  1    147712  ultralytics.nn.modules.conv.Conv             [128, 128, 3, 2]              \n",
            " 20             [-1, 9]  1         0  ultralytics.nn.modules.conv.Concat           [1]                           \n",
            " 21                  -1  1    493056  ultralytics.nn.modules.block.C2f             [384, 256, 1]                 \n",
            " 22        [15, 18, 21]  1    751507  ultralytics.nn.modules.head.Detect           [1, [64, 128, 256]]           \n",
            "Model summary: 225 layers, 3011043 parameters, 3011027 gradients\n",
            "\n",
            "Transferred 319/355 items from pretrained weights\n",
            "WARNING:tensorflow:Please fix your imports. Module tensorflow.python.training.tracking.util has been moved to tensorflow.python.checkpoint.checkpoint. The old module will be deleted in version 2.11.\n",
            "\u001b[34m\u001b[1mTensorBoard: \u001b[0mStart with 'tensorboard --logdir runs/detect/train', view at http://localhost:6006/\n",
            "\u001b[34m\u001b[1mAMP: \u001b[0mrunning Automatic Mixed Precision (AMP) checks with YOLOv8n...\n",
            "\u001b[34m\u001b[1mAMP: \u001b[0mchecks passed ✅\n",
            "\u001b[34m\u001b[1mtrain: \u001b[0mScanning /content/UAVs-hunting-1/train/labels... 2805 images, 0 backgrounds, 0 corrupt: 100% 2805/2805 [00:01<00:00, 1592.05it/s]\n",
            "\u001b[34m\u001b[1mtrain: \u001b[0mNew cache created: /content/UAVs-hunting-1/train/labels.cache\n",
            "\u001b[34m\u001b[1malbumentations: \u001b[0mBlur(p=0.01, blur_limit=(3, 7)), MedianBlur(p=0.01, blur_limit=(3, 7)), ToGray(p=0.01), CLAHE(p=0.01, clip_limit=(1, 4.0), tile_grid_size=(8, 8))\n",
            "\u001b[34m\u001b[1mval: \u001b[0mScanning /content/UAVs-hunting-1/valid/labels... 802 images, 0 backgrounds, 0 corrupt: 100% 802/802 [00:00<00:00, 1707.40it/s]\n",
            "\u001b[34m\u001b[1mval: \u001b[0mNew cache created: /content/UAVs-hunting-1/valid/labels.cache\n",
            "Plotting labels to runs/detect/train/labels.jpg... \n",
            "\u001b[34m\u001b[1moptimizer:\u001b[0m AdamW(lr=0.002, momentum=0.9) with parameter groups 57 weight(decay=0.0), 64 weight(decay=0.0005), 63 bias(decay=0.0)\n",
            "Image sizes 640 train, 640 val\n",
            "Using 4 dataloader workers\n",
            "Logging results to \u001b[1mruns/detect/train\u001b[0m\n",
            "Starting training for 100 epochs...\n",
            "\n",
            "      Epoch    GPU_mem   box_loss   cls_loss   dfl_loss  Instances       Size\n",
            "      1/100      2.45G      1.576      3.234      1.074          4        640: 100% 176/176 [00:50<00:00,  3.47it/s]\n",
            "                 Class     Images  Instances      Box(P          R      mAP50  mAP50-95):   0% 0/26 [00:00<?, ?it/s]"
          ]
        },
        {
          "output_type": "stream",
          "name": "stderr",
          "text": [
            "/usr/local/lib/python3.10/dist-packages/nbconvert/filters/widgetsdatatypefilter.py:71: UserWarning:\n",
            "\n",
            "Your element with mimetype(s) dict_keys(['application/vnd.colab-display-data+json']) is not able to be represented.\n",
            "\n"
          ]
        },
        {
          "output_type": "stream",
          "name": "stdout",
          "text": [
            "                 Class     Images  Instances      Box(P          R      mAP50  mAP50-95): 100% 26/26 [00:11<00:00,  2.19it/s]\n",
            "                   all        802        802      0.826      0.544      0.577       0.27\n",
            "\n",
            "      Epoch    GPU_mem   box_loss   cls_loss   dfl_loss  Instances       Size\n",
            "      2/100      2.32G      1.607       1.62      1.117          5        640: 100% 176/176 [00:49<00:00,  3.56it/s]\n",
            "                 Class     Images  Instances      Box(P          R      mAP50  mAP50-95): 100% 26/26 [00:10<00:00,  2.52it/s]\n",
            "                   all        802        802      0.728      0.615      0.632      0.313\n",
            "\n",
            "      Epoch    GPU_mem   box_loss   cls_loss   dfl_loss  Instances       Size\n",
            "      3/100      2.33G      1.578      1.031      1.138          8        640: 100% 176/176 [00:51<00:00,  3.43it/s]\n",
            "                 Class     Images  Instances      Box(P          R      mAP50  mAP50-95): 100% 26/26 [00:12<00:00,  2.13it/s]\n",
            "                   all        802        802      0.793      0.552      0.613      0.309\n",
            "\n",
            "      Epoch    GPU_mem   box_loss   cls_loss   dfl_loss  Instances       Size\n",
            "      4/100      2.32G      1.535     0.8629      1.101          6        640: 100% 176/176 [00:50<00:00,  3.48it/s]\n",
            "                 Class     Images  Instances      Box(P          R      mAP50  mAP50-95): 100% 26/26 [00:10<00:00,  2.46it/s]\n",
            "                   all        802        802      0.884      0.634        0.7      0.327\n",
            "\n",
            "      Epoch    GPU_mem   box_loss   cls_loss   dfl_loss  Instances       Size\n",
            "      5/100      2.32G      1.514     0.8079      1.079          6        640: 100% 176/176 [00:48<00:00,  3.59it/s]\n",
            "                 Class     Images  Instances      Box(P          R      mAP50  mAP50-95): 100% 26/26 [00:10<00:00,  2.37it/s]\n",
            "                   all        802        802       0.86       0.64      0.704      0.343\n",
            "\n",
            "      Epoch    GPU_mem   box_loss   cls_loss   dfl_loss  Instances       Size\n",
            "      6/100      2.32G      1.463     0.7553      1.081          8        640: 100% 176/176 [00:48<00:00,  3.61it/s]\n",
            "                 Class     Images  Instances      Box(P          R      mAP50  mAP50-95): 100% 26/26 [00:10<00:00,  2.37it/s]\n",
            "                   all        802        802      0.801      0.622      0.672       0.35\n",
            "\n",
            "      Epoch    GPU_mem   box_loss   cls_loss   dfl_loss  Instances       Size\n",
            "      7/100      2.32G      1.486     0.7607      1.083          6        640: 100% 176/176 [00:50<00:00,  3.49it/s]\n",
            "                 Class     Images  Instances      Box(P          R      mAP50  mAP50-95): 100% 26/26 [00:11<00:00,  2.36it/s]\n",
            "                   all        802        802      0.839      0.632      0.693      0.327\n",
            "\n",
            "      Epoch    GPU_mem   box_loss   cls_loss   dfl_loss  Instances       Size\n",
            "      8/100      2.32G      1.486     0.7303      1.077          7        640: 100% 176/176 [00:50<00:00,  3.48it/s]\n",
            "                 Class     Images  Instances      Box(P          R      mAP50  mAP50-95): 100% 26/26 [00:10<00:00,  2.36it/s]\n",
            "                   all        802        802      0.819      0.612      0.713      0.348\n",
            "\n",
            "      Epoch    GPU_mem   box_loss   cls_loss   dfl_loss  Instances       Size\n",
            "      9/100      2.33G      1.472     0.7173       1.08         10        640: 100% 176/176 [00:50<00:00,  3.48it/s]\n",
            "                 Class     Images  Instances      Box(P          R      mAP50  mAP50-95): 100% 26/26 [00:10<00:00,  2.43it/s]\n",
            "                   all        802        802      0.837      0.707      0.766      0.403\n",
            "\n",
            "      Epoch    GPU_mem   box_loss   cls_loss   dfl_loss  Instances       Size\n",
            "     10/100      2.32G      1.478     0.7021      1.073          6        640: 100% 176/176 [00:49<00:00,  3.56it/s]\n",
            "                 Class     Images  Instances      Box(P          R      mAP50  mAP50-95): 100% 26/26 [00:11<00:00,  2.35it/s]\n",
            "                   all        802        802      0.867       0.66      0.725      0.383\n",
            "\n",
            "      Epoch    GPU_mem   box_loss   cls_loss   dfl_loss  Instances       Size\n",
            "     11/100      2.32G      1.411     0.6897      1.069          8        640: 100% 176/176 [00:50<00:00,  3.52it/s]\n",
            "                 Class     Images  Instances      Box(P          R      mAP50  mAP50-95): 100% 26/26 [00:11<00:00,  2.29it/s]\n",
            "                   all        802        802      0.802      0.648      0.703      0.371\n",
            "\n",
            "      Epoch    GPU_mem   box_loss   cls_loss   dfl_loss  Instances       Size\n",
            "     12/100      2.32G      1.405     0.6739      1.059          5        640: 100% 176/176 [00:51<00:00,  3.44it/s]\n",
            "                 Class     Images  Instances      Box(P          R      mAP50  mAP50-95): 100% 26/26 [00:11<00:00,  2.35it/s]\n",
            "                   all        802        802       0.85      0.718      0.786      0.417\n",
            "\n",
            "      Epoch    GPU_mem   box_loss   cls_loss   dfl_loss  Instances       Size\n",
            "     13/100      2.33G      1.408     0.6626      1.047          8        640: 100% 176/176 [00:50<00:00,  3.47it/s]\n",
            "                 Class     Images  Instances      Box(P          R      mAP50  mAP50-95): 100% 26/26 [00:10<00:00,  2.45it/s]\n",
            "                   all        802        802      0.848      0.709      0.764      0.385\n",
            "\n",
            "      Epoch    GPU_mem   box_loss   cls_loss   dfl_loss  Instances       Size\n",
            "     14/100      2.32G      1.408     0.6827      1.064         10        640: 100% 176/176 [00:51<00:00,  3.43it/s]\n",
            "                 Class     Images  Instances      Box(P          R      mAP50  mAP50-95): 100% 26/26 [00:11<00:00,  2.21it/s]\n",
            "                   all        802        802      0.847      0.732      0.779      0.429\n",
            "\n",
            "      Epoch    GPU_mem   box_loss   cls_loss   dfl_loss  Instances       Size\n",
            "     15/100      2.33G        1.4      0.661       1.05          8        640: 100% 176/176 [00:50<00:00,  3.48it/s]\n",
            "                 Class     Images  Instances      Box(P          R      mAP50  mAP50-95): 100% 26/26 [00:11<00:00,  2.29it/s]\n",
            "                   all        802        802      0.899      0.688       0.77      0.432\n",
            "\n",
            "      Epoch    GPU_mem   box_loss   cls_loss   dfl_loss  Instances       Size\n",
            "     16/100      2.32G      1.369     0.6507      1.042         11        640: 100% 176/176 [00:50<00:00,  3.51it/s]\n",
            "                 Class     Images  Instances      Box(P          R      mAP50  mAP50-95): 100% 26/26 [00:11<00:00,  2.25it/s]\n",
            "                   all        802        802      0.877      0.676      0.763      0.397\n",
            "\n",
            "      Epoch    GPU_mem   box_loss   cls_loss   dfl_loss  Instances       Size\n",
            "     17/100      2.33G      1.407     0.6653      1.062         10        640: 100% 176/176 [00:52<00:00,  3.37it/s]\n",
            "                 Class     Images  Instances      Box(P          R      mAP50  mAP50-95): 100% 26/26 [00:09<00:00,  2.68it/s]\n",
            "                   all        802        802      0.845      0.706      0.794      0.424\n",
            "\n",
            "      Epoch    GPU_mem   box_loss   cls_loss   dfl_loss  Instances       Size\n",
            "     18/100      2.32G      1.378      0.651      1.029          8        640: 100% 176/176 [00:51<00:00,  3.39it/s]\n",
            "                 Class     Images  Instances      Box(P          R      mAP50  mAP50-95): 100% 26/26 [00:11<00:00,  2.25it/s]\n",
            "                   all        802        802      0.846      0.683      0.761      0.411\n",
            "\n",
            "      Epoch    GPU_mem   box_loss   cls_loss   dfl_loss  Instances       Size\n",
            "     19/100      2.33G      1.367      0.643      1.049          9        640: 100% 176/176 [00:49<00:00,  3.52it/s]\n",
            "                 Class     Images  Instances      Box(P          R      mAP50  mAP50-95): 100% 26/26 [00:10<00:00,  2.37it/s]\n",
            "                   all        802        802      0.876      0.711      0.785      0.426\n",
            "\n",
            "      Epoch    GPU_mem   box_loss   cls_loss   dfl_loss  Instances       Size\n",
            "     20/100      2.32G       1.37     0.6371      1.044          9        640: 100% 176/176 [00:50<00:00,  3.48it/s]\n",
            "                 Class     Images  Instances      Box(P          R      mAP50  mAP50-95): 100% 26/26 [00:11<00:00,  2.30it/s]\n",
            "                   all        802        802      0.874      0.699      0.787      0.424\n",
            "\n",
            "      Epoch    GPU_mem   box_loss   cls_loss   dfl_loss  Instances       Size\n",
            "     21/100      2.32G      1.354     0.6332      1.046         11        640: 100% 176/176 [00:51<00:00,  3.43it/s]\n",
            "                 Class     Images  Instances      Box(P          R      mAP50  mAP50-95): 100% 26/26 [00:11<00:00,  2.29it/s]\n",
            "                   all        802        802      0.875      0.708      0.786       0.43\n",
            "\n",
            "      Epoch    GPU_mem   box_loss   cls_loss   dfl_loss  Instances       Size\n",
            "     22/100      2.32G      1.356     0.6374      1.032          6        640: 100% 176/176 [00:52<00:00,  3.37it/s]\n",
            "                 Class     Images  Instances      Box(P          R      mAP50  mAP50-95): 100% 26/26 [00:10<00:00,  2.44it/s]\n",
            "                   all        802        802      0.825      0.716       0.77      0.418\n",
            "\n",
            "      Epoch    GPU_mem   box_loss   cls_loss   dfl_loss  Instances       Size\n",
            "     23/100      2.33G      1.371     0.6344      1.049         11        640: 100% 176/176 [00:50<00:00,  3.47it/s]\n",
            "                 Class     Images  Instances      Box(P          R      mAP50  mAP50-95): 100% 26/26 [00:11<00:00,  2.21it/s]\n",
            "                   all        802        802       0.85      0.705      0.763      0.408\n",
            "\n",
            "      Epoch    GPU_mem   box_loss   cls_loss   dfl_loss  Instances       Size\n",
            "     24/100      2.33G       1.36     0.6281      1.047         12        640: 100% 176/176 [00:51<00:00,  3.44it/s]\n",
            "                 Class     Images  Instances      Box(P          R      mAP50  mAP50-95): 100% 26/26 [00:11<00:00,  2.35it/s]\n",
            "                   all        802        802      0.857      0.712      0.783      0.432\n",
            "\n",
            "      Epoch    GPU_mem   box_loss   cls_loss   dfl_loss  Instances       Size\n",
            "     25/100      2.32G      1.326     0.6234      1.022          6        640: 100% 176/176 [00:50<00:00,  3.48it/s]\n",
            "                 Class     Images  Instances      Box(P          R      mAP50  mAP50-95): 100% 26/26 [00:11<00:00,  2.36it/s]\n",
            "                   all        802        802      0.841      0.696      0.765      0.405\n",
            "\n",
            "      Epoch    GPU_mem   box_loss   cls_loss   dfl_loss  Instances       Size\n",
            "     26/100      2.32G      1.336     0.6213      1.031          7        640: 100% 176/176 [00:50<00:00,  3.45it/s]\n",
            "                 Class     Images  Instances      Box(P          R      mAP50  mAP50-95): 100% 26/26 [00:10<00:00,  2.42it/s]\n",
            "                   all        802        802       0.87      0.741      0.804      0.438\n",
            "\n",
            "      Epoch    GPU_mem   box_loss   cls_loss   dfl_loss  Instances       Size\n",
            "     27/100      2.32G      1.332     0.6195      1.038          6        640: 100% 176/176 [00:51<00:00,  3.43it/s]\n",
            "                 Class     Images  Instances      Box(P          R      mAP50  mAP50-95): 100% 26/26 [00:10<00:00,  2.55it/s]\n",
            "                   all        802        802      0.866      0.687      0.772      0.424\n",
            "\n",
            "      Epoch    GPU_mem   box_loss   cls_loss   dfl_loss  Instances       Size\n",
            "     28/100      2.32G       1.33     0.6254      1.039          8        640: 100% 176/176 [00:52<00:00,  3.38it/s]\n",
            "                 Class     Images  Instances      Box(P          R      mAP50  mAP50-95): 100% 26/26 [00:10<00:00,  2.38it/s]\n",
            "                   all        802        802      0.872      0.728      0.807      0.449\n",
            "\n",
            "      Epoch    GPU_mem   box_loss   cls_loss   dfl_loss  Instances       Size\n",
            "     29/100      2.32G      1.313     0.6061      1.017          7        640: 100% 176/176 [00:50<00:00,  3.49it/s]\n",
            "                 Class     Images  Instances      Box(P          R      mAP50  mAP50-95): 100% 26/26 [00:11<00:00,  2.25it/s]\n",
            "                   all        802        802      0.837        0.7       0.78      0.429\n",
            "\n",
            "      Epoch    GPU_mem   box_loss   cls_loss   dfl_loss  Instances       Size\n",
            "     30/100      2.32G      1.337     0.6167      1.051          7        640: 100% 176/176 [00:50<00:00,  3.48it/s]\n",
            "                 Class     Images  Instances      Box(P          R      mAP50  mAP50-95): 100% 26/26 [00:11<00:00,  2.18it/s]\n",
            "                   all        802        802      0.895      0.717      0.813      0.458\n",
            "\n",
            "      Epoch    GPU_mem   box_loss   cls_loss   dfl_loss  Instances       Size\n",
            "     31/100      2.32G      1.308     0.6066      1.031          6        640: 100% 176/176 [00:50<00:00,  3.47it/s]\n",
            "                 Class     Images  Instances      Box(P          R      mAP50  mAP50-95): 100% 26/26 [00:10<00:00,  2.46it/s]\n",
            "                   all        802        802      0.857      0.761      0.812      0.457\n",
            "\n",
            "      Epoch    GPU_mem   box_loss   cls_loss   dfl_loss  Instances       Size\n",
            "     32/100      2.32G        1.3     0.6018      1.023          7        640: 100% 176/176 [00:51<00:00,  3.39it/s]\n",
            "                 Class     Images  Instances      Box(P          R      mAP50  mAP50-95): 100% 26/26 [00:10<00:00,  2.49it/s]\n",
            "                   all        802        802      0.884      0.744       0.81      0.455\n",
            "\n",
            "      Epoch    GPU_mem   box_loss   cls_loss   dfl_loss  Instances       Size\n",
            "     33/100      2.32G      1.319     0.6156      1.022          2        640: 100% 176/176 [00:51<00:00,  3.42it/s]\n",
            "                 Class     Images  Instances      Box(P          R      mAP50  mAP50-95): 100% 26/26 [00:10<00:00,  2.41it/s]\n",
            "                   all        802        802        0.9      0.752      0.814      0.449\n",
            "\n",
            "      Epoch    GPU_mem   box_loss   cls_loss   dfl_loss  Instances       Size\n",
            "     34/100      2.33G      1.286     0.5844      1.023          7        640: 100% 176/176 [00:50<00:00,  3.47it/s]\n",
            "                 Class     Images  Instances      Box(P          R      mAP50  mAP50-95): 100% 26/26 [00:11<00:00,  2.24it/s]\n",
            "                   all        802        802      0.909      0.726      0.801      0.446\n",
            "\n",
            "      Epoch    GPU_mem   box_loss   cls_loss   dfl_loss  Instances       Size\n",
            "     35/100      2.32G      1.333      0.613      1.022          6        640: 100% 176/176 [00:50<00:00,  3.52it/s]\n",
            "                 Class     Images  Instances      Box(P          R      mAP50  mAP50-95): 100% 26/26 [00:11<00:00,  2.24it/s]\n",
            "                   all        802        802      0.903      0.758      0.832      0.468\n",
            "\n",
            "      Epoch    GPU_mem   box_loss   cls_loss   dfl_loss  Instances       Size\n",
            "     36/100      2.33G      1.293     0.5996      1.015         18        640: 100% 176/176 [00:51<00:00,  3.44it/s]\n",
            "                 Class     Images  Instances      Box(P          R      mAP50  mAP50-95): 100% 26/26 [00:10<00:00,  2.56it/s]\n",
            "                   all        802        802      0.882      0.768      0.823      0.461\n",
            "\n",
            "      Epoch    GPU_mem   box_loss   cls_loss   dfl_loss  Instances       Size\n",
            "     37/100      2.32G        1.3     0.5984       1.03          9        640: 100% 176/176 [00:51<00:00,  3.43it/s]\n",
            "                 Class     Images  Instances      Box(P          R      mAP50  mAP50-95): 100% 26/26 [00:11<00:00,  2.36it/s]\n",
            "                   all        802        802      0.889      0.751      0.833      0.454\n",
            "\n",
            "      Epoch    GPU_mem   box_loss   cls_loss   dfl_loss  Instances       Size\n",
            "     38/100      2.33G      1.288     0.5871      1.025          9        640: 100% 176/176 [00:50<00:00,  3.50it/s]\n",
            "                 Class     Images  Instances      Box(P          R      mAP50  mAP50-95): 100% 26/26 [00:11<00:00,  2.27it/s]\n",
            "                   all        802        802       0.89      0.717      0.806      0.447\n",
            "\n",
            "      Epoch    GPU_mem   box_loss   cls_loss   dfl_loss  Instances       Size\n",
            "     39/100      2.32G      1.307     0.5894      1.037          7        640: 100% 176/176 [00:50<00:00,  3.48it/s]\n",
            "                 Class     Images  Instances      Box(P          R      mAP50  mAP50-95): 100% 26/26 [00:10<00:00,  2.40it/s]\n",
            "                   all        802        802       0.87      0.741      0.811      0.454\n",
            "\n",
            "      Epoch    GPU_mem   box_loss   cls_loss   dfl_loss  Instances       Size\n",
            "     40/100      2.32G       1.29     0.5902      1.023         11        640: 100% 176/176 [00:50<00:00,  3.49it/s]\n",
            "                 Class     Images  Instances      Box(P          R      mAP50  mAP50-95): 100% 26/26 [00:11<00:00,  2.23it/s]\n",
            "                   all        802        802      0.874      0.757      0.831      0.462\n",
            "\n",
            "      Epoch    GPU_mem   box_loss   cls_loss   dfl_loss  Instances       Size\n",
            "     41/100      2.32G      1.285      0.584      1.024          7        640: 100% 176/176 [00:51<00:00,  3.44it/s]\n",
            "                 Class     Images  Instances      Box(P          R      mAP50  mAP50-95): 100% 26/26 [00:10<00:00,  2.55it/s]\n",
            "                   all        802        802      0.879      0.748       0.82      0.467\n",
            "\n",
            "      Epoch    GPU_mem   box_loss   cls_loss   dfl_loss  Instances       Size\n",
            "     42/100      2.32G      1.295     0.5999      1.031          5        640: 100% 176/176 [00:52<00:00,  3.38it/s]\n",
            "                 Class     Images  Instances      Box(P          R      mAP50  mAP50-95): 100% 26/26 [00:11<00:00,  2.19it/s]\n",
            "                   all        802        802      0.882      0.738      0.809      0.459\n",
            "\n",
            "      Epoch    GPU_mem   box_loss   cls_loss   dfl_loss  Instances       Size\n",
            "     43/100      2.33G      1.297     0.6025      1.014          7        640: 100% 176/176 [00:49<00:00,  3.55it/s]\n",
            "                 Class     Images  Instances      Box(P          R      mAP50  mAP50-95): 100% 26/26 [00:11<00:00,  2.31it/s]\n",
            "                   all        802        802      0.883      0.752      0.831       0.46\n",
            "\n",
            "      Epoch    GPU_mem   box_loss   cls_loss   dfl_loss  Instances       Size\n",
            "     44/100      2.32G      1.294     0.5812      1.024          9        640: 100% 176/176 [00:50<00:00,  3.50it/s]\n",
            "                 Class     Images  Instances      Box(P          R      mAP50  mAP50-95): 100% 26/26 [00:11<00:00,  2.30it/s]\n",
            "                   all        802        802      0.908      0.754      0.823      0.471\n",
            "\n",
            "      Epoch    GPU_mem   box_loss   cls_loss   dfl_loss  Instances       Size\n",
            "     45/100      2.32G      1.275     0.5764      1.008          6        640: 100% 176/176 [00:50<00:00,  3.47it/s]\n",
            "                 Class     Images  Instances      Box(P          R      mAP50  mAP50-95): 100% 26/26 [00:10<00:00,  2.50it/s]\n",
            "                   all        802        802      0.901      0.751      0.814      0.469\n",
            "\n",
            "      Epoch    GPU_mem   box_loss   cls_loss   dfl_loss  Instances       Size\n",
            "     46/100      2.32G      1.288     0.5824      1.017          9        640: 100% 176/176 [00:51<00:00,  3.42it/s]\n",
            "                 Class     Images  Instances      Box(P          R      mAP50  mAP50-95): 100% 26/26 [00:10<00:00,  2.51it/s]\n",
            "                   all        802        802      0.867      0.734      0.785      0.446\n",
            "\n",
            "      Epoch    GPU_mem   box_loss   cls_loss   dfl_loss  Instances       Size\n",
            "     47/100      2.32G      1.302     0.5788      1.014          3        640: 100% 176/176 [00:51<00:00,  3.43it/s]\n",
            "                 Class     Images  Instances      Box(P          R      mAP50  mAP50-95): 100% 26/26 [00:11<00:00,  2.26it/s]\n",
            "                   all        802        802      0.889      0.749      0.834      0.481\n",
            "\n",
            "      Epoch    GPU_mem   box_loss   cls_loss   dfl_loss  Instances       Size\n",
            "     48/100      2.32G      1.283      0.583      1.022          6        640: 100% 176/176 [00:50<00:00,  3.51it/s]\n",
            "                 Class     Images  Instances      Box(P          R      mAP50  mAP50-95): 100% 26/26 [00:11<00:00,  2.28it/s]\n",
            "                   all        802        802      0.895      0.753      0.831      0.478\n",
            "\n",
            "      Epoch    GPU_mem   box_loss   cls_loss   dfl_loss  Instances       Size\n",
            "     49/100      2.33G      1.264     0.5796       1.02         11        640: 100% 176/176 [00:50<00:00,  3.46it/s]\n",
            "                 Class     Images  Instances      Box(P          R      mAP50  mAP50-95): 100% 26/26 [00:10<00:00,  2.39it/s]\n",
            "                   all        802        802      0.895      0.742      0.816      0.473\n",
            "\n",
            "      Epoch    GPU_mem   box_loss   cls_loss   dfl_loss  Instances       Size\n",
            "     50/100      2.33G      1.282     0.5668      1.013         12        640: 100% 176/176 [00:50<00:00,  3.51it/s]\n",
            "                 Class     Images  Instances      Box(P          R      mAP50  mAP50-95): 100% 26/26 [00:12<00:00,  2.06it/s]\n",
            "                   all        802        802       0.88      0.789      0.833      0.462\n",
            "\n",
            "      Epoch    GPU_mem   box_loss   cls_loss   dfl_loss  Instances       Size\n",
            "     51/100      2.32G      1.284     0.5681       1.02         11        640: 100% 176/176 [00:51<00:00,  3.40it/s]\n",
            "                 Class     Images  Instances      Box(P          R      mAP50  mAP50-95): 100% 26/26 [00:10<00:00,  2.57it/s]\n",
            "                   all        802        802      0.911      0.771      0.846      0.476\n",
            "\n",
            "      Epoch    GPU_mem   box_loss   cls_loss   dfl_loss  Instances       Size\n",
            "     52/100      2.32G      1.244     0.5678      0.996          8        640: 100% 176/176 [00:51<00:00,  3.44it/s]\n",
            "                 Class     Images  Instances      Box(P          R      mAP50  mAP50-95): 100% 26/26 [00:11<00:00,  2.26it/s]\n",
            "                   all        802        802      0.893      0.762      0.828      0.476\n",
            "\n",
            "      Epoch    GPU_mem   box_loss   cls_loss   dfl_loss  Instances       Size\n",
            "     53/100      2.32G      1.256     0.5571      1.002         10        640: 100% 176/176 [00:50<00:00,  3.51it/s]\n",
            "                 Class     Images  Instances      Box(P          R      mAP50  mAP50-95): 100% 26/26 [00:11<00:00,  2.27it/s]\n",
            "                   all        802        802      0.894      0.779      0.841      0.484\n",
            "\n",
            "      Epoch    GPU_mem   box_loss   cls_loss   dfl_loss  Instances       Size\n",
            "     54/100      2.33G      1.236     0.5589      1.014         10        640: 100% 176/176 [00:50<00:00,  3.50it/s]\n",
            "                 Class     Images  Instances      Box(P          R      mAP50  mAP50-95): 100% 26/26 [00:11<00:00,  2.18it/s]\n",
            "                   all        802        802        0.9      0.747      0.813      0.468\n",
            "\n",
            "      Epoch    GPU_mem   box_loss   cls_loss   dfl_loss  Instances       Size\n",
            "     55/100      2.32G      1.273     0.5776      1.012          7        640: 100% 176/176 [00:51<00:00,  3.44it/s]\n",
            "                 Class     Images  Instances      Box(P          R      mAP50  mAP50-95): 100% 26/26 [00:10<00:00,  2.44it/s]\n",
            "                   all        802        802      0.891      0.766       0.83      0.471\n",
            "\n",
            "      Epoch    GPU_mem   box_loss   cls_loss   dfl_loss  Instances       Size\n",
            "     56/100      2.32G      1.236     0.5575      1.004          8        640: 100% 176/176 [00:51<00:00,  3.40it/s]\n",
            "                 Class     Images  Instances      Box(P          R      mAP50  mAP50-95): 100% 26/26 [00:10<00:00,  2.54it/s]\n",
            "                   all        802        802      0.903      0.767      0.832      0.482\n",
            "\n",
            "      Epoch    GPU_mem   box_loss   cls_loss   dfl_loss  Instances       Size\n",
            "     57/100      2.32G      1.258      0.568      1.017          7        640: 100% 176/176 [00:52<00:00,  3.38it/s]\n",
            "                 Class     Images  Instances      Box(P          R      mAP50  mAP50-95): 100% 26/26 [00:11<00:00,  2.23it/s]\n",
            "                   all        802        802      0.909      0.762      0.833      0.483\n",
            "\n",
            "      Epoch    GPU_mem   box_loss   cls_loss   dfl_loss  Instances       Size\n",
            "     58/100      2.32G      1.231     0.5561      1.017          3        640: 100% 176/176 [00:50<00:00,  3.48it/s]\n",
            "                 Class     Images  Instances      Box(P          R      mAP50  mAP50-95): 100% 26/26 [00:11<00:00,  2.25it/s]\n",
            "                   all        802        802      0.899      0.754      0.833      0.489\n",
            "\n",
            "      Epoch    GPU_mem   box_loss   cls_loss   dfl_loss  Instances       Size\n",
            "     59/100      2.32G      1.251     0.5638      1.019          6        640: 100% 176/176 [00:51<00:00,  3.39it/s]\n",
            "                 Class     Images  Instances      Box(P          R      mAP50  mAP50-95): 100% 26/26 [00:11<00:00,  2.35it/s]\n",
            "                   all        802        802      0.887      0.772      0.827      0.484\n",
            "\n",
            "      Epoch    GPU_mem   box_loss   cls_loss   dfl_loss  Instances       Size\n",
            "     60/100      2.33G      1.255     0.5566      1.012          9        640: 100% 176/176 [00:51<00:00,  3.42it/s]\n",
            "                 Class     Images  Instances      Box(P          R      mAP50  mAP50-95): 100% 26/26 [00:10<00:00,  2.43it/s]\n",
            "                   all        802        802      0.884      0.763      0.796      0.454\n",
            "\n",
            "      Epoch    GPU_mem   box_loss   cls_loss   dfl_loss  Instances       Size\n",
            "     61/100      2.33G      1.262     0.5645      1.006         10        640: 100% 176/176 [00:50<00:00,  3.47it/s]\n",
            "                 Class     Images  Instances      Box(P          R      mAP50  mAP50-95): 100% 26/26 [00:10<00:00,  2.38it/s]\n",
            "                   all        802        802      0.889      0.757      0.815      0.477\n",
            "\n",
            "      Epoch    GPU_mem   box_loss   cls_loss   dfl_loss  Instances       Size\n",
            "     62/100      2.32G      1.252     0.5555      1.021          5        640: 100% 176/176 [00:50<00:00,  3.49it/s]\n",
            "                 Class     Images  Instances      Box(P          R      mAP50  mAP50-95): 100% 26/26 [00:11<00:00,  2.17it/s]\n",
            "                   all        802        802      0.888      0.758      0.819      0.483\n",
            "\n",
            "      Epoch    GPU_mem   box_loss   cls_loss   dfl_loss  Instances       Size\n",
            "     63/100      2.33G      1.243     0.5567       1.01          9        640: 100% 176/176 [00:52<00:00,  3.34it/s]\n",
            "                 Class     Images  Instances      Box(P          R      mAP50  mAP50-95): 100% 26/26 [00:11<00:00,  2.27it/s]\n",
            "                   all        802        802      0.903      0.776      0.842      0.492\n",
            "\n",
            "      Epoch    GPU_mem   box_loss   cls_loss   dfl_loss  Instances       Size\n",
            "     64/100      2.32G      1.221     0.5495      1.007          6        640: 100% 176/176 [00:51<00:00,  3.44it/s]\n",
            "                 Class     Images  Instances      Box(P          R      mAP50  mAP50-95): 100% 26/26 [00:10<00:00,  2.50it/s]\n",
            "                   all        802        802      0.884      0.764      0.839       0.48\n",
            "\n",
            "      Epoch    GPU_mem   box_loss   cls_loss   dfl_loss  Instances       Size\n",
            "     65/100      2.33G      1.228     0.5516      0.993         10        640: 100% 176/176 [00:51<00:00,  3.41it/s]\n",
            "                 Class     Images  Instances      Box(P          R      mAP50  mAP50-95): 100% 26/26 [00:12<00:00,  2.16it/s]\n",
            "                   all        802        802      0.904      0.754      0.837      0.483\n",
            "\n",
            "      Epoch    GPU_mem   box_loss   cls_loss   dfl_loss  Instances       Size\n",
            "     66/100      2.32G      1.239     0.5477      1.006         10        640: 100% 176/176 [00:50<00:00,  3.48it/s]\n",
            "                 Class     Images  Instances      Box(P          R      mAP50  mAP50-95): 100% 26/26 [00:11<00:00,  2.35it/s]\n",
            "                   all        802        802      0.904      0.748      0.817       0.47\n",
            "\n",
            "      Epoch    GPU_mem   box_loss   cls_loss   dfl_loss  Instances       Size\n",
            "     67/100      2.33G      1.241     0.5511     0.9964         13        640: 100% 176/176 [00:51<00:00,  3.41it/s]\n",
            "                 Class     Images  Instances      Box(P          R      mAP50  mAP50-95): 100% 26/26 [00:12<00:00,  2.15it/s]\n",
            "                   all        802        802      0.906      0.772      0.828      0.469\n",
            "\n",
            "      Epoch    GPU_mem   box_loss   cls_loss   dfl_loss  Instances       Size\n",
            "     68/100      2.32G      1.224     0.5403      1.011          7        640: 100% 176/176 [00:51<00:00,  3.43it/s]\n",
            "                 Class     Images  Instances      Box(P          R      mAP50  mAP50-95): 100% 26/26 [00:10<00:00,  2.41it/s]\n",
            "                   all        802        802      0.905      0.771      0.844      0.488\n",
            "\n",
            "      Epoch    GPU_mem   box_loss   cls_loss   dfl_loss  Instances       Size\n",
            "     69/100      2.33G      1.227     0.5441      1.002          9        640: 100% 176/176 [00:51<00:00,  3.41it/s]\n",
            "                 Class     Images  Instances      Box(P          R      mAP50  mAP50-95): 100% 26/26 [00:11<00:00,  2.32it/s]\n",
            "                   all        802        802      0.898      0.763      0.842      0.492\n",
            "\n",
            "      Epoch    GPU_mem   box_loss   cls_loss   dfl_loss  Instances       Size\n",
            "     70/100      2.32G      1.218     0.5417      1.006          8        640: 100% 176/176 [00:50<00:00,  3.48it/s]\n",
            "                 Class     Images  Instances      Box(P          R      mAP50  mAP50-95): 100% 26/26 [00:11<00:00,  2.22it/s]\n",
            "                   all        802        802      0.918      0.792      0.862      0.491\n",
            "\n",
            "      Epoch    GPU_mem   box_loss   cls_loss   dfl_loss  Instances       Size\n",
            "     71/100      2.33G      1.202     0.5292     0.9846         10        640: 100% 176/176 [00:50<00:00,  3.47it/s]\n",
            "                 Class     Images  Instances      Box(P          R      mAP50  mAP50-95): 100% 26/26 [00:11<00:00,  2.18it/s]\n",
            "                   all        802        802      0.908      0.773      0.838      0.492\n",
            "\n",
            "      Epoch    GPU_mem   box_loss   cls_loss   dfl_loss  Instances       Size\n",
            "     72/100      2.32G      1.227     0.5414     0.9921          6        640: 100% 176/176 [00:50<00:00,  3.46it/s]\n",
            "                 Class     Images  Instances      Box(P          R      mAP50  mAP50-95): 100% 26/26 [00:10<00:00,  2.38it/s]\n",
            "                   all        802        802      0.908      0.768      0.843      0.496\n",
            "\n",
            "      Epoch    GPU_mem   box_loss   cls_loss   dfl_loss  Instances       Size\n",
            "     73/100      2.32G      1.224     0.5234     0.9971          6        640: 100% 176/176 [00:51<00:00,  3.44it/s]\n",
            "                 Class     Images  Instances      Box(P          R      mAP50  mAP50-95): 100% 26/26 [00:11<00:00,  2.30it/s]\n",
            "                   all        802        802      0.882      0.758      0.826      0.492\n",
            "\n",
            "      Epoch    GPU_mem   box_loss   cls_loss   dfl_loss  Instances       Size\n",
            "     74/100      2.33G      1.207     0.5408      1.009          8        640: 100% 176/176 [00:50<00:00,  3.46it/s]\n",
            "                 Class     Images  Instances      Box(P          R      mAP50  mAP50-95): 100% 26/26 [00:11<00:00,  2.31it/s]\n",
            "                   all        802        802      0.906      0.781      0.841      0.494\n",
            "\n",
            "      Epoch    GPU_mem   box_loss   cls_loss   dfl_loss  Instances       Size\n",
            "     75/100      2.32G      1.232      0.528     0.9988          6        640: 100% 176/176 [00:51<00:00,  3.42it/s]\n",
            "                 Class     Images  Instances      Box(P          R      mAP50  mAP50-95): 100% 26/26 [00:11<00:00,  2.25it/s]\n",
            "                   all        802        802      0.893      0.786      0.848      0.495\n",
            "\n",
            "      Epoch    GPU_mem   box_loss   cls_loss   dfl_loss  Instances       Size\n",
            "     76/100      2.32G      1.216     0.5411     0.9893          6        640: 100% 176/176 [00:51<00:00,  3.40it/s]\n",
            "                 Class     Images  Instances      Box(P          R      mAP50  mAP50-95): 100% 26/26 [00:10<00:00,  2.42it/s]\n",
            "                   all        802        802      0.897      0.771      0.854      0.504\n",
            "\n",
            "      Epoch    GPU_mem   box_loss   cls_loss   dfl_loss  Instances       Size\n",
            "     77/100      2.33G      1.191     0.5243     0.9952         11        640: 100% 176/176 [00:50<00:00,  3.45it/s]\n",
            "                 Class     Images  Instances      Box(P          R      mAP50  mAP50-95): 100% 26/26 [00:10<00:00,  2.46it/s]\n",
            "                   all        802        802      0.906      0.786       0.85      0.502\n",
            "\n",
            "      Epoch    GPU_mem   box_loss   cls_loss   dfl_loss  Instances       Size\n",
            "     78/100      2.32G      1.211      0.519          1         10        640: 100% 176/176 [00:50<00:00,  3.45it/s]\n",
            "                 Class     Images  Instances      Box(P          R      mAP50  mAP50-95): 100% 26/26 [00:11<00:00,  2.33it/s]\n",
            "                   all        802        802      0.905      0.775      0.836       0.49\n",
            "\n",
            "      Epoch    GPU_mem   box_loss   cls_loss   dfl_loss  Instances       Size\n",
            "     79/100      2.33G      1.195     0.5211     0.9984         11        640: 100% 176/176 [00:51<00:00,  3.42it/s]\n",
            "                 Class     Images  Instances      Box(P          R      mAP50  mAP50-95): 100% 26/26 [00:10<00:00,  2.40it/s]\n",
            "                   all        802        802      0.915      0.781      0.864       0.51\n",
            "\n",
            "      Epoch    GPU_mem   box_loss   cls_loss   dfl_loss  Instances       Size\n",
            "     80/100      2.32G      1.196     0.5137     0.9978          9        640: 100% 176/176 [00:50<00:00,  3.49it/s]\n",
            "                 Class     Images  Instances      Box(P          R      mAP50  mAP50-95): 100% 26/26 [00:12<00:00,  2.16it/s]\n",
            "                   all        802        802       0.92      0.792      0.857      0.506\n",
            "\n",
            "      Epoch    GPU_mem   box_loss   cls_loss   dfl_loss  Instances       Size\n",
            "     81/100      2.32G      1.186      0.521     0.9859         10        640: 100% 176/176 [00:51<00:00,  3.41it/s]\n",
            "                 Class     Images  Instances      Box(P          R      mAP50  mAP50-95): 100% 26/26 [00:10<00:00,  2.53it/s]\n",
            "                   all        802        802      0.909      0.772      0.849      0.503\n",
            "\n",
            "      Epoch    GPU_mem   box_loss   cls_loss   dfl_loss  Instances       Size\n",
            "     82/100      2.32G      1.186     0.5172      1.003          8        640: 100% 176/176 [00:51<00:00,  3.41it/s]\n",
            "                 Class     Images  Instances      Box(P          R      mAP50  mAP50-95): 100% 26/26 [00:11<00:00,  2.30it/s]\n",
            "                   all        802        802        0.9      0.789      0.849      0.503\n",
            "\n",
            "      Epoch    GPU_mem   box_loss   cls_loss   dfl_loss  Instances       Size\n",
            "     83/100      2.32G      1.187     0.5262     0.9907          3        640: 100% 176/176 [00:50<00:00,  3.49it/s]\n",
            "                 Class     Images  Instances      Box(P          R      mAP50  mAP50-95): 100% 26/26 [00:11<00:00,  2.19it/s]\n",
            "                   all        802        802      0.902      0.769      0.839       0.48\n",
            "\n",
            "      Epoch    GPU_mem   box_loss   cls_loss   dfl_loss  Instances       Size\n",
            "     84/100      2.32G      1.205     0.5253     0.9832          8        640: 100% 176/176 [00:50<00:00,  3.49it/s]\n",
            "                 Class     Images  Instances      Box(P          R      mAP50  mAP50-95): 100% 26/26 [00:10<00:00,  2.37it/s]\n",
            "                   all        802        802      0.906      0.787      0.849      0.504\n",
            "\n",
            "      Epoch    GPU_mem   box_loss   cls_loss   dfl_loss  Instances       Size\n",
            "     85/100      2.32G      1.189     0.5191     0.9908          6        640: 100% 176/176 [00:49<00:00,  3.54it/s]\n",
            "                 Class     Images  Instances      Box(P          R      mAP50  mAP50-95): 100% 26/26 [00:11<00:00,  2.25it/s]\n",
            "                   all        802        802      0.913      0.789      0.856      0.508\n",
            "\n",
            "      Epoch    GPU_mem   box_loss   cls_loss   dfl_loss  Instances       Size\n",
            "     86/100      2.33G      1.181     0.5085     0.9987          9        640: 100% 176/176 [00:50<00:00,  3.47it/s]\n",
            "                 Class     Images  Instances      Box(P          R      mAP50  mAP50-95): 100% 26/26 [00:10<00:00,  2.52it/s]\n",
            "                   all        802        802      0.911      0.784      0.851      0.501\n",
            "\n",
            "      Epoch    GPU_mem   box_loss   cls_loss   dfl_loss  Instances       Size\n",
            "     87/100      2.32G      1.175     0.5123     0.9998          9        640: 100% 176/176 [00:53<00:00,  3.31it/s]\n",
            "                 Class     Images  Instances      Box(P          R      mAP50  mAP50-95): 100% 26/26 [00:11<00:00,  2.31it/s]\n",
            "                   all        802        802      0.891      0.787      0.841      0.499\n",
            "\n",
            "      Epoch    GPU_mem   box_loss   cls_loss   dfl_loss  Instances       Size\n",
            "     88/100      2.32G      1.166     0.5099     0.9982          7        640: 100% 176/176 [00:49<00:00,  3.53it/s]\n",
            "                 Class     Images  Instances      Box(P          R      mAP50  mAP50-95): 100% 26/26 [00:11<00:00,  2.25it/s]\n",
            "                   all        802        802      0.904      0.788      0.849      0.504\n",
            "\n",
            "      Epoch    GPU_mem   box_loss   cls_loss   dfl_loss  Instances       Size\n",
            "     89/100      2.32G       1.16     0.4988     0.9788          9        640: 100% 176/176 [00:49<00:00,  3.54it/s]\n",
            "                 Class     Images  Instances      Box(P          R      mAP50  mAP50-95): 100% 26/26 [00:12<00:00,  2.10it/s]\n",
            "                   all        802        802      0.911      0.786      0.848      0.505\n",
            "\n",
            "      Epoch    GPU_mem   box_loss   cls_loss   dfl_loss  Instances       Size\n",
            "     90/100      2.32G      1.162     0.4972     0.9844          8        640: 100% 176/176 [00:50<00:00,  3.52it/s]\n",
            "                 Class     Images  Instances      Box(P          R      mAP50  mAP50-95): 100% 26/26 [00:12<00:00,  2.06it/s]\n",
            "                   all        802        802      0.901      0.787      0.848      0.502\n",
            "\n",
            "      Epoch    GPU_mem   box_loss   cls_loss   dfl_loss  Instances       Size\n",
            "     91/100      2.33G      1.169     0.5025     0.9841          9        640: 100% 176/176 [00:51<00:00,  3.44it/s]\n",
            "                 Class     Images  Instances      Box(P          R      mAP50  mAP50-95): 100% 26/26 [00:10<00:00,  2.58it/s]\n",
            "                   all        802        802      0.911      0.796      0.856      0.508\n",
            "\n",
            "      Epoch    GPU_mem   box_loss   cls_loss   dfl_loss  Instances       Size\n",
            "     92/100      2.32G      1.184     0.5109     0.9889          9        640: 100% 176/176 [00:51<00:00,  3.43it/s]\n",
            "                 Class     Images  Instances      Box(P          R      mAP50  mAP50-95): 100% 26/26 [00:11<00:00,  2.26it/s]\n",
            "                   all        802        802      0.907       0.79      0.848      0.509\n",
            "\n",
            "      Epoch    GPU_mem   box_loss   cls_loss   dfl_loss  Instances       Size\n",
            "     93/100      2.33G      1.188     0.5057     0.9934         10        640: 100% 176/176 [00:50<00:00,  3.49it/s]\n",
            "                 Class     Images  Instances      Box(P          R      mAP50  mAP50-95): 100% 26/26 [00:11<00:00,  2.33it/s]\n",
            "                   all        802        802      0.911      0.792      0.852      0.504\n",
            "\n",
            "      Epoch    GPU_mem   box_loss   cls_loss   dfl_loss  Instances       Size\n",
            "     94/100      2.33G      1.198     0.5119     0.9943         11        640: 100% 176/176 [00:50<00:00,  3.50it/s]\n",
            "                 Class     Images  Instances      Box(P          R      mAP50  mAP50-95): 100% 26/26 [00:12<00:00,  2.04it/s]\n",
            "                   all        802        802      0.903      0.788      0.853      0.501\n",
            "\n",
            "      Epoch    GPU_mem   box_loss   cls_loss   dfl_loss  Instances       Size\n",
            "     95/100      2.33G      1.177      0.504     0.9772          9        640: 100% 176/176 [00:50<00:00,  3.46it/s]\n",
            "                 Class     Images  Instances      Box(P          R      mAP50  mAP50-95): 100% 26/26 [00:10<00:00,  2.38it/s]\n",
            "                   all        802        802      0.908      0.791      0.858      0.509\n",
            "\n",
            "      Epoch    GPU_mem   box_loss   cls_loss   dfl_loss  Instances       Size\n",
            "     96/100      2.33G      1.165      0.506     0.9703          9        640: 100% 176/176 [00:51<00:00,  3.44it/s]\n",
            "                 Class     Images  Instances      Box(P          R      mAP50  mAP50-95): 100% 26/26 [00:10<00:00,  2.53it/s]\n",
            "                   all        802        802      0.902      0.783      0.844      0.506\n",
            "\n",
            "      Epoch    GPU_mem   box_loss   cls_loss   dfl_loss  Instances       Size\n",
            "     97/100      2.32G       1.19     0.5054      0.995          5        640: 100% 176/176 [00:51<00:00,  3.41it/s]\n",
            "                 Class     Images  Instances      Box(P          R      mAP50  mAP50-95): 100% 26/26 [00:11<00:00,  2.28it/s]\n",
            "                   all        802        802      0.906      0.782      0.848       0.51\n",
            "\n",
            "      Epoch    GPU_mem   box_loss   cls_loss   dfl_loss  Instances       Size\n",
            "     98/100      2.32G      1.171     0.5005     0.9907          7        640: 100% 176/176 [00:50<00:00,  3.46it/s]\n",
            "                 Class     Images  Instances      Box(P          R      mAP50  mAP50-95): 100% 26/26 [00:10<00:00,  2.38it/s]\n",
            "                   all        802        802      0.906      0.794      0.854       0.51\n",
            "\n",
            "      Epoch    GPU_mem   box_loss   cls_loss   dfl_loss  Instances       Size\n",
            "     99/100      2.32G      1.143     0.4914     0.9688          6        640: 100% 176/176 [00:49<00:00,  3.56it/s]\n",
            "                 Class     Images  Instances      Box(P          R      mAP50  mAP50-95): 100% 26/26 [00:12<00:00,  2.13it/s]\n",
            "                   all        802        802      0.916       0.79      0.852       0.51\n",
            "\n",
            "      Epoch    GPU_mem   box_loss   cls_loss   dfl_loss  Instances       Size\n",
            "    100/100      2.32G      1.178     0.5107     0.9817          6        640: 100% 176/176 [00:50<00:00,  3.50it/s]\n",
            "                 Class     Images  Instances      Box(P          R      mAP50  mAP50-95): 100% 26/26 [00:12<00:00,  2.14it/s]\n",
            "                   all        802        802      0.915      0.794      0.856      0.509\n",
            "\n",
            "100 epochs completed in 1.750 hours.\n",
            "Optimizer stripped from runs/detect/train/weights/last.pt, 6.2MB\n",
            "Optimizer stripped from runs/detect/train/weights/best.pt, 6.2MB\n",
            "\n",
            "Validating runs/detect/train/weights/best.pt...\n",
            "Ultralytics YOLOv8.0.114 🚀 Python-3.10.11 torch-2.0.1+cu118 CUDA:0 (Tesla T4, 15102MiB)\n",
            "Model summary (fused): 168 layers, 3005843 parameters, 0 gradients\n",
            "                 Class     Images  Instances      Box(P          R      mAP50  mAP50-95): 100% 26/26 [00:11<00:00,  2.35it/s]\n",
            "                   all        802        802      0.916      0.781      0.864       0.51\n",
            "Speed: 0.3ms preprocess, 1.7ms inference, 0.0ms loss, 1.6ms postprocess per image\n",
            "Results saved to \u001b[1mruns/detect/train\u001b[0m\n",
            "2023-06-06 18:55:39,385 - clearml.Task - INFO - Completed model upload to https://files.clear.ml/Drone-detect/best-model/YoloV8n.a0cdf6685367470fb69e6afb8e69b916/models/best.pt\n",
            "CPU times: user 5min 31s, sys: 15.8 s, total: 5min 47s\n",
            "Wall time: 1h 46min 2s\n"
          ]
        }
      ],
      "source": [
        "# train yolov5s on custom data for 100 epochs\n",
        "# time its performance\n",
        "%%time\n",
        "\n",
        "# !python -m torch.distributed.run --nproc_per_node 8 train.py --img 416 --batch-size 128 --epochs 100 --data {dataset.location}/data.yaml --cfg ./models/custom_yolov5s.yaml --weights yolov5s.pt --name yolov5s_results_multigpu  --cache --device 0,1,2,3,4,5,6,7\n",
        "!yolo task=detect mode=train model=yolov8n.pt data={dataset.location}/data.yaml  epochs={epochs} imgsz={img}"
      ]
    },
    {
      "cell_type": "code",
      "source": [
        "task1.close()"
      ],
      "metadata": {
        "id": "ggvVXqUoMTun"
      },
      "execution_count": 11,
      "outputs": []
    },
    {
      "cell_type": "markdown",
      "source": [
        "### YoLoV8s"
      ],
      "metadata": {
        "id": "t2o1gU14Mip3"
      }
    },
    {
      "cell_type": "code",
      "source": [
        "task2 = Task.init(project_name='Drone-detect/best-model', task_name='YoloV8n')"
      ],
      "metadata": {
        "colab": {
          "base_uri": "https://localhost:8080/"
        },
        "id": "JjzqCu5xMlbv",
        "outputId": "168c1354-95e2-4e38-ea2c-a4ce96bc1eb3"
      },
      "execution_count": 12,
      "outputs": [
        {
          "output_type": "stream",
          "name": "stdout",
          "text": [
            "ClearML Task: created new task id=f9561c7fe30e47a7ad94f21a29fb0b04\n",
            "ClearML results page: https://app.clear.ml/projects/3447e370f16d49f09a6eec0b62466e5a/experiments/f9561c7fe30e47a7ad94f21a29fb0b04/output/log\n"
          ]
        }
      ]
    },
    {
      "cell_type": "code",
      "source": [
        "!yolo task=detect mode=train model=yolov8s.pt data={dataset.location}/data.yaml  epochs={epochs} imgsz={img}"
      ],
      "metadata": {
        "colab": {
          "base_uri": "https://localhost:8080/"
        },
        "id": "tMmyw_VKGmsy",
        "outputId": "f38d5362-095f-4b7a-9dd0-13b942d15ad9"
      },
      "execution_count": 13,
      "outputs": [
        {
          "output_type": "stream",
          "name": "stdout",
          "text": [
            "     75/100      4.02G      1.218     0.5207      1.003          6        640: 100% 176/176 [00:49<00:00,  3.54it/s]\n",
            "                 Class     Images  Instances      Box(P          R      mAP50  mAP50-95): 100% 26/26 [00:11<00:00,  2.25it/s]\n",
            "                   all        802        802      0.915      0.788      0.859      0.499\n",
            "\n",
            "      Epoch    GPU_mem   box_loss   cls_loss   dfl_loss  Instances       Size\n",
            "     76/100      4.02G      1.215     0.5344     0.9958          6        640: 100% 176/176 [00:50<00:00,  3.46it/s]\n",
            "                 Class     Images  Instances      Box(P          R      mAP50  mAP50-95): 100% 26/26 [00:10<00:00,  2.43it/s]\n",
            "                   all        802        802      0.901      0.771      0.851      0.504\n",
            "\n",
            "      Epoch    GPU_mem   box_loss   cls_loss   dfl_loss  Instances       Size\n",
            "     77/100      4.02G      1.188     0.5077      1.001         11        640: 100% 176/176 [00:50<00:00,  3.51it/s]\n",
            "                 Class     Images  Instances      Box(P          R      mAP50  mAP50-95): 100% 26/26 [00:10<00:00,  2.47it/s]\n",
            "                   all        802        802      0.913      0.786      0.855      0.496\n",
            "\n",
            "      Epoch    GPU_mem   box_loss   cls_loss   dfl_loss  Instances       Size\n",
            "     78/100      4.02G      1.218     0.5124      1.005         10        640: 100% 176/176 [00:51<00:00,  3.39it/s]\n",
            "                 Class     Images  Instances      Box(P          R      mAP50  mAP50-95): 100% 26/26 [00:09<00:00,  2.61it/s]\n",
            "                   all        802        802      0.917      0.792      0.854      0.499\n",
            "\n",
            "      Epoch    GPU_mem   box_loss   cls_loss   dfl_loss  Instances       Size\n",
            "     79/100      4.02G      1.194     0.5127      1.003         11        640: 100% 176/176 [00:50<00:00,  3.45it/s]\n",
            "                 Class     Images  Instances      Box(P          R      mAP50  mAP50-95): 100% 26/26 [00:10<00:00,  2.38it/s]\n",
            "                   all        802        802       0.91      0.772       0.85      0.493\n",
            "\n",
            "      Epoch    GPU_mem   box_loss   cls_loss   dfl_loss  Instances       Size\n",
            "     80/100      4.02G      1.196     0.5045      1.002          9        640: 100% 176/176 [00:50<00:00,  3.50it/s]\n",
            "                 Class     Images  Instances      Box(P          R      mAP50  mAP50-95): 100% 26/26 [00:10<00:00,  2.39it/s]\n",
            "                   all        802        802      0.929      0.787      0.861      0.508\n",
            "\n",
            "      Epoch    GPU_mem   box_loss   cls_loss   dfl_loss  Instances       Size\n",
            "     81/100      4.03G      1.184      0.517       0.99         10        640: 100% 176/176 [00:50<00:00,  3.47it/s]\n",
            "                 Class     Images  Instances      Box(P          R      mAP50  mAP50-95): 100% 26/26 [00:10<00:00,  2.45it/s]\n",
            "                   all        802        802      0.904      0.769      0.852      0.505\n",
            "\n",
            "      Epoch    GPU_mem   box_loss   cls_loss   dfl_loss  Instances       Size\n",
            "     82/100      4.02G      1.187     0.5137      1.008          8        640: 100% 176/176 [00:52<00:00,  3.38it/s]\n",
            "                 Class     Images  Instances      Box(P          R      mAP50  mAP50-95): 100% 26/26 [00:10<00:00,  2.59it/s]\n",
            "                   all        802        802       0.91      0.784      0.862       0.51\n",
            "\n",
            "      Epoch    GPU_mem   box_loss   cls_loss   dfl_loss  Instances       Size\n",
            "     83/100      4.02G      1.182     0.5151     0.9956          3        640: 100% 176/176 [00:50<00:00,  3.46it/s]\n",
            "                 Class     Images  Instances      Box(P          R      mAP50  mAP50-95): 100% 26/26 [00:10<00:00,  2.44it/s]\n",
            "                   all        802        802      0.919      0.779      0.853      0.504\n",
            "\n",
            "      Epoch    GPU_mem   box_loss   cls_loss   dfl_loss  Instances       Size\n",
            "     84/100      4.02G      1.207     0.5157     0.9903          8        640: 100% 176/176 [00:51<00:00,  3.45it/s]\n",
            "                 Class     Images  Instances      Box(P          R      mAP50  mAP50-95): 100% 26/26 [00:11<00:00,  2.30it/s]\n",
            "                   all        802        802      0.917      0.791      0.859      0.503\n",
            "\n",
            "      Epoch    GPU_mem   box_loss   cls_loss   dfl_loss  Instances       Size\n",
            "     85/100      4.02G      1.184     0.5077      0.995          6        640: 100% 176/176 [00:50<00:00,  3.47it/s]\n",
            "                 Class     Images  Instances      Box(P          R      mAP50  mAP50-95): 100% 26/26 [00:10<00:00,  2.58it/s]\n",
            "                   all        802        802      0.912       0.78      0.857      0.503\n",
            "\n",
            "      Epoch    GPU_mem   box_loss   cls_loss   dfl_loss  Instances       Size\n",
            "     86/100      4.02G      1.175      0.504      1.003          9        640: 100% 176/176 [00:50<00:00,  3.45it/s]\n",
            "                 Class     Images  Instances      Box(P          R      mAP50  mAP50-95): 100% 26/26 [00:10<00:00,  2.41it/s]\n",
            "                   all        802        802      0.918      0.777      0.858      0.496\n",
            "\n",
            "      Epoch    GPU_mem   box_loss   cls_loss   dfl_loss  Instances       Size\n",
            "     87/100      4.02G      1.168     0.5021      1.007          9        640: 100% 176/176 [00:50<00:00,  3.51it/s]\n",
            "                 Class     Images  Instances      Box(P          R      mAP50  mAP50-95): 100% 26/26 [00:10<00:00,  2.44it/s]\n",
            "                   all        802        802      0.912      0.781      0.851      0.501\n",
            "\n",
            "      Epoch    GPU_mem   box_loss   cls_loss   dfl_loss  Instances       Size\n",
            "     88/100      4.01G      1.163     0.4981      1.008          7        640: 100% 176/176 [00:51<00:00,  3.44it/s]\n",
            "                 Class     Images  Instances      Box(P          R      mAP50  mAP50-95): 100% 26/26 [00:10<00:00,  2.43it/s]\n",
            "                   all        802        802      0.915      0.796       0.86      0.505\n",
            "\n",
            "      Epoch    GPU_mem   box_loss   cls_loss   dfl_loss  Instances       Size\n",
            "     89/100      4.02G      1.161     0.4916     0.9851          9        640: 100% 176/176 [00:51<00:00,  3.42it/s]\n",
            "                 Class     Images  Instances      Box(P          R      mAP50  mAP50-95): 100% 26/26 [00:10<00:00,  2.53it/s]\n",
            "                   all        802        802      0.908      0.787      0.859      0.503\n",
            "\n",
            "      Epoch    GPU_mem   box_loss   cls_loss   dfl_loss  Instances       Size\n",
            "     90/100      4.02G      1.151     0.4877     0.9916          8        640: 100% 176/176 [00:51<00:00,  3.45it/s]\n",
            "                 Class     Images  Instances      Box(P          R      mAP50  mAP50-95): 100% 26/26 [00:10<00:00,  2.37it/s]\n",
            "                   all        802        802      0.918      0.805      0.865      0.503\n",
            "\n",
            "      Epoch    GPU_mem   box_loss   cls_loss   dfl_loss  Instances       Size\n",
            "     91/100      4.03G      1.169     0.4982      0.998          9        640: 100% 176/176 [00:50<00:00,  3.48it/s]\n",
            "                 Class     Images  Instances      Box(P          R      mAP50  mAP50-95): 100% 26/26 [00:12<00:00,  2.09it/s]\n",
            "                   all        802        802       0.92      0.791      0.863      0.513\n",
            "\n",
            "      Epoch    GPU_mem   box_loss   cls_loss   dfl_loss  Instances       Size\n",
            "     92/100      4.02G      1.179      0.506     0.9963          9        640: 100% 176/176 [00:50<00:00,  3.51it/s]\n",
            "                 Class     Images  Instances      Box(P          R      mAP50  mAP50-95): 100% 26/26 [00:10<00:00,  2.45it/s]\n",
            "                   all        802        802      0.919      0.798      0.861      0.499\n",
            "\n",
            "      Epoch    GPU_mem   box_loss   cls_loss   dfl_loss  Instances       Size\n",
            "     93/100      4.03G      1.182     0.4955     0.9989         10        640: 100% 176/176 [00:50<00:00,  3.47it/s]\n",
            "                 Class     Images  Instances      Box(P          R      mAP50  mAP50-95): 100% 26/26 [00:09<00:00,  2.68it/s]\n",
            "                   all        802        802      0.927      0.789      0.862      0.509\n",
            "\n",
            "      Epoch    GPU_mem   box_loss   cls_loss   dfl_loss  Instances       Size\n",
            "     94/100      4.02G      1.189     0.5056     0.9992         11        640: 100% 176/176 [00:51<00:00,  3.44it/s]\n",
            "                 Class     Images  Instances      Box(P          R      mAP50  mAP50-95): 100% 26/26 [00:09<00:00,  2.64it/s]\n",
            "                   all        802        802      0.927      0.788      0.866      0.505\n",
            "\n",
            "      Epoch    GPU_mem   box_loss   cls_loss   dfl_loss  Instances       Size\n",
            "     95/100      4.02G       1.17     0.4947     0.9848          9        640: 100% 176/176 [00:51<00:00,  3.42it/s]\n",
            "                 Class     Images  Instances      Box(P          R      mAP50  mAP50-95): 100% 26/26 [00:10<00:00,  2.49it/s]\n",
            "                   all        802        802       0.93       0.79       0.87      0.517\n",
            "\n",
            "      Epoch    GPU_mem   box_loss   cls_loss   dfl_loss  Instances       Size\n",
            "     96/100      4.02G       1.16     0.4984     0.9788          9        640: 100% 176/176 [00:49<00:00,  3.55it/s]\n",
            "                 Class     Images  Instances      Box(P          R      mAP50  mAP50-95): 100% 26/26 [00:10<00:00,  2.53it/s]\n",
            "                   all        802        802      0.919       0.79      0.861       0.51\n",
            "\n",
            "      Epoch    GPU_mem   box_loss   cls_loss   dfl_loss  Instances       Size\n",
            "     97/100      4.03G      1.187     0.5018     0.9986          5        640: 100% 176/176 [00:49<00:00,  3.55it/s]\n",
            "                 Class     Images  Instances      Box(P          R      mAP50  mAP50-95): 100% 26/26 [00:11<00:00,  2.25it/s]\n",
            "                   all        802        802       0.92      0.786       0.86      0.513\n",
            "\n",
            "      Epoch    GPU_mem   box_loss   cls_loss   dfl_loss  Instances       Size\n",
            "     98/100      4.02G      1.163     0.4939     0.9979          7        640: 100% 176/176 [00:49<00:00,  3.53it/s]\n",
            "                 Class     Images  Instances      Box(P          R      mAP50  mAP50-95): 100% 26/26 [00:11<00:00,  2.22it/s]\n",
            "                   all        802        802       0.92      0.789      0.863      0.513\n",
            "\n",
            "      Epoch    GPU_mem   box_loss   cls_loss   dfl_loss  Instances       Size\n",
            "     99/100      4.02G      1.133     0.4838     0.9712          6        640: 100% 176/176 [00:50<00:00,  3.46it/s]\n",
            "                 Class     Images  Instances      Box(P          R      mAP50  mAP50-95): 100% 26/26 [00:09<00:00,  2.63it/s]\n",
            "                   all        802        802      0.924      0.787      0.864      0.511\n",
            "\n",
            "      Epoch    GPU_mem   box_loss   cls_loss   dfl_loss  Instances       Size\n",
            "    100/100      4.02G      1.173        0.5       0.99          6        640: 100% 176/176 [00:49<00:00,  3.52it/s]\n",
            "                 Class     Images  Instances      Box(P          R      mAP50  mAP50-95): 100% 26/26 [00:12<00:00,  2.00it/s]\n",
            "                   all        802        802      0.935      0.782      0.863      0.514\n",
            "\n",
            "100 epochs completed in 1.762 hours.\n",
            "Optimizer stripped from runs/detect/train2/weights/last.pt, 22.5MB\n",
            "Optimizer stripped from runs/detect/train2/weights/best.pt, 22.5MB\n",
            "\n",
            "Validating runs/detect/train2/weights/best.pt...\n",
            "Ultralytics YOLOv8.0.114 🚀 Python-3.10.11 torch-2.0.1+cu118 CUDA:0 (Tesla T4, 15102MiB)\n",
            "Model summary (fused): 168 layers, 11125971 parameters, 0 gradients\n",
            "                 Class     Images  Instances      Box(P          R      mAP50  mAP50-95): 100% 26/26 [00:11<00:00,  2.31it/s]\n",
            "                   all        802        802       0.93      0.789       0.87      0.517\n",
            "Speed: 0.2ms preprocess, 2.4ms inference, 0.0ms loss, 1.5ms postprocess per image\n",
            "Results saved to \u001b[1mruns/detect/train2\u001b[0m\n",
            "2023-06-06 20:42:47,150 - clearml.Task - INFO - Completed model upload to https://files.clear.ml/Drone-detect/best-model/YoloV8s.f9561c7fe30e47a7ad94f21a29fb0b04/models/best.pt\n"
          ]
        }
      ]
    },
    {
      "cell_type": "code",
      "source": [
        "task2.close()"
      ],
      "metadata": {
        "id": "5dxxwlA4MXNj"
      },
      "execution_count": 14,
      "outputs": []
    },
    {
      "cell_type": "markdown",
      "source": [
        "### YoLoV8m"
      ],
      "metadata": {
        "id": "1FQCgxG-MryZ"
      }
    },
    {
      "cell_type": "code",
      "source": [
        "task3 = Task.init(project_name='Drone-detect/best-model', task_name='YoloV8m')"
      ],
      "metadata": {
        "colab": {
          "base_uri": "https://localhost:8080/"
        },
        "id": "gRczzqRkMvP2",
        "outputId": "958fbbff-3b7d-43a6-848a-88a120716184"
      },
      "execution_count": 15,
      "outputs": [
        {
          "output_type": "stream",
          "name": "stdout",
          "text": [
            "ClearML Task: created new task id=0f7e21a4cfce489ab20978a180e80dea\n",
            "ClearML results page: https://app.clear.ml/projects/3447e370f16d49f09a6eec0b62466e5a/experiments/0f7e21a4cfce489ab20978a180e80dea/output/log\n"
          ]
        }
      ]
    },
    {
      "cell_type": "code",
      "source": [
        "!yolo task=detect mode=train model=/content/drive/MyDrive/КМА/Master-Diploma/weights/best-yolov8m.pt data={dataset.location}/data.yaml  epochs={epochs} imgsz={img}"
      ],
      "metadata": {
        "colab": {
          "base_uri": "https://localhost:8080/"
        },
        "id": "ODRLihS5MKrs",
        "outputId": "1c2e1878-292f-4a80-ed11-6b2363f0f9ef"
      },
      "execution_count": 5,
      "outputs": [
        {
          "output_type": "stream",
          "name": "stdout",
          "text": [
            "Traceback (most recent call last):\n",
            "  File \"/usr/local/bin/yolo\", line 8, in <module>\n",
            "    sys.exit(entrypoint())\n",
            "  File \"/usr/local/lib/python3.10/dist-packages/ultralytics/yolo/cfg/__init__.py\", line 398, in entrypoint\n",
            "    getattr(model, mode)(**overrides)  # default args from model\n",
            "  File \"/usr/local/lib/python3.10/dist-packages/ultralytics/yolo/engine/model.py\", line 366, in train\n",
            "    self.trainer = TASK_MAP[self.task][1](overrides=overrides, _callbacks=self.callbacks)\n",
            "  File \"/usr/local/lib/python3.10/dist-packages/ultralytics/yolo/engine/trainer.py\", line 82, in __init__\n",
            "    self.args = get_cfg(cfg, overrides)\n",
            "  File \"/usr/local/lib/python3.10/dist-packages/ultralytics/yolo/cfg/__init__.py\", line 137, in get_cfg\n",
            "    raise TypeError(f\"'{k}={v}' is of invalid type {type(v).__name__}. \"\n",
            "TypeError: 'epochs={epochs}' is of invalid type str. 'epochs' must be an int (i.e. 'epochs=8')\n"
          ]
        }
      ]
    },
    {
      "cell_type": "code",
      "source": [
        "task3.close()"
      ],
      "metadata": {
        "id": "PrhMzcHmNGOR"
      },
      "execution_count": 17,
      "outputs": []
    },
    {
      "cell_type": "markdown",
      "source": [
        "### YoLoV8l"
      ],
      "metadata": {
        "id": "ShN5dc3UNPj1"
      }
    },
    {
      "cell_type": "code",
      "source": [
        "task4 = Task.init(project_name='Drone-detect/best-model', task_name='YoloV8l')"
      ],
      "metadata": {
        "colab": {
          "base_uri": "https://localhost:8080/"
        },
        "id": "bRYzbGPUNeaQ",
        "outputId": "234e9b9a-4b4b-4158-8d5a-dce78ea5ac63"
      },
      "execution_count": 18,
      "outputs": [
        {
          "output_type": "stream",
          "name": "stdout",
          "text": [
            "ClearML Task: created new task id=11ddd29b69c94310969fc4fb0f38700d\n",
            "ClearML results page: https://app.clear.ml/projects/3447e370f16d49f09a6eec0b62466e5a/experiments/11ddd29b69c94310969fc4fb0f38700d/output/log\n"
          ]
        }
      ]
    },
    {
      "cell_type": "code",
      "source": [
        "!yolo task=detect mode=train model=yolov8l.pt data={dataset.location}/data.yaml  epochs={epochs} imgsz={img}"
      ],
      "metadata": {
        "colab": {
          "base_uri": "https://localhost:8080/"
        },
        "id": "871iNTmvMLC2",
        "outputId": "7c2e32c1-3de6-4266-8ad8-8d9d5134ba5f"
      },
      "execution_count": null,
      "outputs": [
        {
          "output_type": "stream",
          "name": "stdout",
          "text": [
            "Downloading https://github.com/ultralytics/assets/releases/download/v0.0.0/yolov8l.pt to yolov8l.pt...\n",
            "100% 83.7M/83.7M [00:00<00:00, 122MB/s]\n",
            "Ultralytics YOLOv8.0.114 🚀 Python-3.10.11 torch-2.0.1+cu118 CUDA:0 (Tesla T4, 15102MiB)\n",
            "\u001b[34m\u001b[1myolo/engine/trainer: \u001b[0mtask=detect, mode=train, model=yolov8l.pt, data=/content/UAVs-hunting-1/data.yaml, epochs=100, patience=50, batch=16, imgsz=640, save=True, save_period=-1, cache=False, device=None, workers=8, project=None, name=None, exist_ok=False, pretrained=False, optimizer=auto, verbose=True, seed=0, deterministic=True, single_cls=False, rect=False, cos_lr=False, close_mosaic=0, resume=False, amp=True, fraction=1.0, profile=False, overlap_mask=True, mask_ratio=4, dropout=0.0, val=True, split=val, save_json=False, save_hybrid=False, conf=None, iou=0.7, max_det=300, half=False, dnn=False, plots=True, source=None, show=False, save_txt=False, save_conf=False, save_crop=False, show_labels=True, show_conf=True, vid_stride=1, line_width=None, visualize=False, augment=False, agnostic_nms=False, classes=None, retina_masks=False, boxes=True, format=torchscript, keras=False, optimize=False, int8=False, dynamic=False, simplify=False, opset=None, workspace=4, nms=False, lr0=0.01, lrf=0.01, momentum=0.937, weight_decay=0.0005, warmup_epochs=3.0, warmup_momentum=0.8, warmup_bias_lr=0.1, box=7.5, cls=0.5, dfl=1.5, pose=12.0, kobj=1.0, label_smoothing=0.0, nbs=64, hsv_h=0.015, hsv_s=0.7, hsv_v=0.4, degrees=0.0, translate=0.1, scale=0.5, shear=0.0, perspective=0.0, flipud=0.0, fliplr=0.5, mosaic=1.0, mixup=0.0, copy_paste=0.0, cfg=None, v5loader=False, tracker=botsort.yaml, save_dir=runs/detect/train4\n",
            "Overriding model.yaml nc=80 with nc=1\n",
            "\n",
            "                   from  n    params  module                                       arguments                     \n",
            "  0                  -1  1      1856  ultralytics.nn.modules.conv.Conv             [3, 64, 3, 2]                 \n",
            "  1                  -1  1     73984  ultralytics.nn.modules.conv.Conv             [64, 128, 3, 2]               \n",
            "  2                  -1  3    279808  ultralytics.nn.modules.block.C2f             [128, 128, 3, True]           \n",
            "  3                  -1  1    295424  ultralytics.nn.modules.conv.Conv             [128, 256, 3, 2]              \n",
            "  4                  -1  6   2101248  ultralytics.nn.modules.block.C2f             [256, 256, 6, True]           \n",
            "  5                  -1  1   1180672  ultralytics.nn.modules.conv.Conv             [256, 512, 3, 2]              \n",
            "  6                  -1  6   8396800  ultralytics.nn.modules.block.C2f             [512, 512, 6, True]           \n",
            "  7                  -1  1   2360320  ultralytics.nn.modules.conv.Conv             [512, 512, 3, 2]              \n",
            "  8                  -1  3   4461568  ultralytics.nn.modules.block.C2f             [512, 512, 3, True]           \n",
            "  9                  -1  1    656896  ultralytics.nn.modules.block.SPPF            [512, 512, 5]                 \n",
            " 10                  -1  1         0  torch.nn.modules.upsampling.Upsample         [None, 2, 'nearest']          \n",
            " 11             [-1, 6]  1         0  ultralytics.nn.modules.conv.Concat           [1]                           \n",
            " 12                  -1  3   4723712  ultralytics.nn.modules.block.C2f             [1024, 512, 3]                \n",
            " 13                  -1  1         0  torch.nn.modules.upsampling.Upsample         [None, 2, 'nearest']          \n",
            " 14             [-1, 4]  1         0  ultralytics.nn.modules.conv.Concat           [1]                           \n",
            " 15                  -1  3   1247744  ultralytics.nn.modules.block.C2f             [768, 256, 3]                 \n",
            " 16                  -1  1    590336  ultralytics.nn.modules.conv.Conv             [256, 256, 3, 2]              \n",
            " 17            [-1, 12]  1         0  ultralytics.nn.modules.conv.Concat           [1]                           \n",
            " 18                  -1  3   4592640  ultralytics.nn.modules.block.C2f             [768, 512, 3]                 \n",
            " 19                  -1  1   2360320  ultralytics.nn.modules.conv.Conv             [512, 512, 3, 2]              \n",
            " 20             [-1, 9]  1         0  ultralytics.nn.modules.conv.Concat           [1]                           \n",
            " 21                  -1  3   4723712  ultralytics.nn.modules.block.C2f             [1024, 512, 3]                \n",
            " 22        [15, 18, 21]  1   5583571  ultralytics.nn.modules.head.Detect           [1, [256, 512, 512]]          \n",
            "Model summary: 365 layers, 43630611 parameters, 43630595 gradients\n",
            "\n",
            "Transferred 589/595 items from pretrained weights\n",
            "WARNING:tensorflow:Please fix your imports. Module tensorflow.python.training.tracking.util has been moved to tensorflow.python.checkpoint.checkpoint. The old module will be deleted in version 2.11.\n",
            "\u001b[34m\u001b[1mTensorBoard: \u001b[0mStart with 'tensorboard --logdir runs/detect/train4', view at http://localhost:6006/\n",
            "\u001b[34m\u001b[1mAMP: \u001b[0mrunning Automatic Mixed Precision (AMP) checks with YOLOv8n...\n",
            "\u001b[34m\u001b[1mAMP: \u001b[0mchecks passed ✅\n",
            "\u001b[34m\u001b[1mtrain: \u001b[0mScanning /content/UAVs-hunting-1/train/labels.cache... 2805 images, 0 backgrounds, 0 corrupt: 100% 2805/2805 [00:00<?, ?it/s]\n",
            "\u001b[34m\u001b[1malbumentations: \u001b[0mBlur(p=0.01, blur_limit=(3, 7)), MedianBlur(p=0.01, blur_limit=(3, 7)), ToGray(p=0.01), CLAHE(p=0.01, clip_limit=(1, 4.0), tile_grid_size=(8, 8))\n",
            "\u001b[34m\u001b[1mval: \u001b[0mScanning /content/UAVs-hunting-1/valid/labels.cache... 802 images, 0 backgrounds, 0 corrupt: 100% 802/802 [00:00<?, ?it/s]\n",
            "Plotting labels to runs/detect/train4/labels.jpg... \n",
            "\u001b[34m\u001b[1moptimizer:\u001b[0m AdamW(lr=0.002, momentum=0.9) with parameter groups 97 weight(decay=0.0), 104 weight(decay=0.0005), 103 bias(decay=0.0)\n",
            "Image sizes 640 train, 640 val\n",
            "Using 4 dataloader workers\n",
            "Logging results to \u001b[1mruns/detect/train4\u001b[0m\n",
            "Starting training for 100 epochs...\n",
            "\n",
            "      Epoch    GPU_mem   box_loss   cls_loss   dfl_loss  Instances       Size\n",
            "      1/100      10.4G      1.739      5.577      1.079         27        640:   4% 7/176 [00:05<02:06,  1.34it/s]"
          ]
        },
        {
          "output_type": "stream",
          "name": "stderr",
          "text": [
            "/usr/local/lib/python3.10/dist-packages/nbconvert/filters/widgetsdatatypefilter.py:71: UserWarning:\n",
            "\n",
            "Your element with mimetype(s) dict_keys(['application/vnd.colab-display-data+json']) is not able to be represented.\n",
            "\n"
          ]
        },
        {
          "output_type": "stream",
          "name": "stdout",
          "text": [
            "      1/100      10.5G      1.605      1.474      1.146          4        640: 100% 176/176 [02:08<00:00,  1.37it/s]\n",
            "                 Class     Images  Instances      Box(P          R      mAP50  mAP50-95): 100% 26/26 [00:11<00:00,  2.18it/s]\n",
            "                   all        802        802     0.0379      0.367     0.0177    0.00969\n",
            "2023-06-06 23:23:29,259 - clearml - INFO - NaN value encountered. Reporting it as '0.0'. Use clearml.Logger.set_reporting_nan_value to assign another value\n",
            "\n",
            "      Epoch    GPU_mem   box_loss   cls_loss   dfl_loss  Instances       Size\n",
            "      2/100      10.8G      1.672     0.9248      1.165          5        640: 100% 176/176 [02:03<00:00,  1.42it/s]\n",
            "                 Class     Images  Instances      Box(P          R      mAP50  mAP50-95): 100% 26/26 [00:12<00:00,  2.16it/s]\n",
            "                   all        802        802       0.18      0.112     0.0533      0.022\n",
            "\n",
            "      Epoch    GPU_mem   box_loss   cls_loss   dfl_loss  Instances       Size\n",
            "      3/100      10.8G       1.65     0.8998      1.182          8        640: 100% 176/176 [02:02<00:00,  1.43it/s]\n",
            "                 Class     Images  Instances      Box(P          R      mAP50  mAP50-95): 100% 26/26 [00:11<00:00,  2.19it/s]\n",
            "                   all        802        802      0.758      0.599      0.643       0.31\n",
            "\n",
            "      Epoch    GPU_mem   box_loss   cls_loss   dfl_loss  Instances       Size\n",
            "      4/100      10.9G      1.546     0.7898      1.123          6        640: 100% 176/176 [02:01<00:00,  1.45it/s]\n",
            "                 Class     Images  Instances      Box(P          R      mAP50  mAP50-95): 100% 26/26 [00:12<00:00,  2.14it/s]\n",
            "                   all        802        802      0.788      0.663      0.742      0.385\n",
            "\n",
            "      Epoch    GPU_mem   box_loss   cls_loss   dfl_loss  Instances       Size\n",
            "      5/100      10.9G      1.537     0.7739      1.111          6        640: 100% 176/176 [02:01<00:00,  1.45it/s]\n",
            "                 Class     Images  Instances      Box(P          R      mAP50  mAP50-95): 100% 26/26 [00:12<00:00,  2.08it/s]\n",
            "                   all        802        802      0.798      0.618      0.665      0.294\n",
            "\n",
            "      Epoch    GPU_mem   box_loss   cls_loss   dfl_loss  Instances       Size\n",
            "      6/100      10.9G       1.44     0.7127      1.096          8        640: 100% 176/176 [02:01<00:00,  1.45it/s]\n",
            "                 Class     Images  Instances      Box(P          R      mAP50  mAP50-95): 100% 26/26 [00:12<00:00,  2.02it/s]\n",
            "                   all        802        802      0.836      0.658       0.73      0.368\n",
            "\n",
            "      Epoch    GPU_mem   box_loss   cls_loss   dfl_loss  Instances       Size\n",
            "      7/100      10.9G      1.486     0.7412      1.091          6        640: 100% 176/176 [02:00<00:00,  1.45it/s]\n",
            "                 Class     Images  Instances      Box(P          R      mAP50  mAP50-95): 100% 26/26 [00:11<00:00,  2.25it/s]\n",
            "                   all        802        802      0.674      0.263      0.382      0.179\n",
            "\n",
            "      Epoch    GPU_mem   box_loss   cls_loss   dfl_loss  Instances       Size\n",
            "      8/100      10.9G      1.465      0.709      1.084          7        640: 100% 176/176 [02:00<00:00,  1.46it/s]\n",
            "                 Class     Images  Instances      Box(P          R      mAP50  mAP50-95): 100% 26/26 [00:11<00:00,  2.21it/s]\n",
            "                   all        802        802      0.869      0.685      0.753      0.376\n",
            "\n",
            "      Epoch    GPU_mem   box_loss   cls_loss   dfl_loss  Instances       Size\n",
            "      9/100      10.9G      1.467      0.686      1.094         10        640: 100% 176/176 [02:00<00:00,  1.46it/s]\n",
            "                 Class     Images  Instances      Box(P          R      mAP50  mAP50-95): 100% 26/26 [00:12<00:00,  2.12it/s]\n",
            "                   all        802        802      0.889      0.612       0.71      0.383\n",
            "\n",
            "      Epoch    GPU_mem   box_loss   cls_loss   dfl_loss  Instances       Size\n",
            "     10/100      10.9G      1.448     0.6755      1.073          6        640: 100% 176/176 [02:00<00:00,  1.46it/s]\n",
            "                 Class     Images  Instances      Box(P          R      mAP50  mAP50-95): 100% 26/26 [00:11<00:00,  2.30it/s]\n",
            "                   all        802        802        0.9      0.383      0.584      0.307\n",
            "\n",
            "      Epoch    GPU_mem   box_loss   cls_loss   dfl_loss  Instances       Size\n",
            "     11/100      10.9G      1.411     0.6718      1.077          8        640: 100% 176/176 [02:00<00:00,  1.46it/s]\n",
            "                 Class     Images  Instances      Box(P          R      mAP50  mAP50-95): 100% 26/26 [00:11<00:00,  2.19it/s]\n",
            "                   all        802        802      0.912      0.672      0.782      0.438\n",
            "\n",
            "      Epoch    GPU_mem   box_loss   cls_loss   dfl_loss  Instances       Size\n",
            "     12/100      10.9G       1.39     0.6437      1.069          5        640: 100% 176/176 [02:01<00:00,  1.45it/s]\n",
            "                 Class     Images  Instances      Box(P          R      mAP50  mAP50-95): 100% 26/26 [00:12<00:00,  2.07it/s]\n",
            "                   all        802        802      0.896      0.665      0.758      0.406\n",
            "\n",
            "      Epoch    GPU_mem   box_loss   cls_loss   dfl_loss  Instances       Size\n",
            "     13/100      10.9G      1.392     0.6442       1.06          8        640: 100% 176/176 [02:00<00:00,  1.46it/s]\n",
            "                 Class     Images  Instances      Box(P          R      mAP50  mAP50-95): 100% 26/26 [00:11<00:00,  2.17it/s]\n",
            "                   all        802        802      0.831      0.577      0.704       0.37\n",
            "\n",
            "      Epoch    GPU_mem   box_loss   cls_loss   dfl_loss  Instances       Size\n",
            "     14/100      10.9G      1.376     0.6487      1.064         10        640: 100% 176/176 [02:00<00:00,  1.46it/s]\n",
            "                 Class     Images  Instances      Box(P          R      mAP50  mAP50-95): 100% 26/26 [00:12<00:00,  2.10it/s]\n",
            "                   all        802        802      0.873      0.666      0.772      0.424\n",
            "\n",
            "      Epoch    GPU_mem   box_loss   cls_loss   dfl_loss  Instances       Size\n",
            "     15/100      10.9G      1.403     0.6479      1.058          8        640: 100% 176/176 [02:00<00:00,  1.46it/s]\n",
            "                 Class     Images  Instances      Box(P          R      mAP50  mAP50-95): 100% 26/26 [00:11<00:00,  2.18it/s]\n",
            "                   all        802        802      0.907      0.671      0.771      0.427\n",
            "\n",
            "      Epoch    GPU_mem   box_loss   cls_loss   dfl_loss  Instances       Size\n",
            "     16/100      10.9G      1.349     0.6189      1.051         11        640: 100% 176/176 [02:00<00:00,  1.46it/s]\n",
            "                 Class     Images  Instances      Box(P          R      mAP50  mAP50-95): 100% 26/26 [00:12<00:00,  2.12it/s]\n",
            "                   all        802        802      0.856      0.677      0.791      0.427\n",
            "\n",
            "      Epoch    GPU_mem   box_loss   cls_loss   dfl_loss  Instances       Size\n",
            "     17/100      10.9G      1.381      0.632      1.069         10        640: 100% 176/176 [02:00<00:00,  1.46it/s]\n",
            "                 Class     Images  Instances      Box(P          R      mAP50  mAP50-95): 100% 26/26 [00:13<00:00,  1.99it/s]\n",
            "                   all        802        802      0.872      0.702      0.789      0.433\n",
            "\n",
            "      Epoch    GPU_mem   box_loss   cls_loss   dfl_loss  Instances       Size\n",
            "     18/100      10.9G      1.339     0.6245      1.038          8        640: 100% 176/176 [02:01<00:00,  1.45it/s]\n",
            "                 Class     Images  Instances      Box(P          R      mAP50  mAP50-95): 100% 26/26 [00:12<00:00,  2.02it/s]\n",
            "                   all        802        802      0.898      0.679      0.792      0.421\n",
            "\n",
            "      Epoch    GPU_mem   box_loss   cls_loss   dfl_loss  Instances       Size\n",
            "     19/100      10.9G      1.341     0.5991      1.056          9        640: 100% 176/176 [02:00<00:00,  1.45it/s]\n",
            "                 Class     Images  Instances      Box(P          R      mAP50  mAP50-95): 100% 26/26 [00:12<00:00,  2.04it/s]\n",
            "                   all        802        802      0.892      0.691      0.775      0.422\n",
            "\n",
            "      Epoch    GPU_mem   box_loss   cls_loss   dfl_loss  Instances       Size\n",
            "     20/100      10.9G      1.356      0.618      1.061          9        640: 100% 176/176 [02:01<00:00,  1.45it/s]\n",
            "                 Class     Images  Instances      Box(P          R      mAP50  mAP50-95): 100% 26/26 [00:12<00:00,  2.11it/s]\n",
            "                   all        802        802       0.89      0.663      0.733      0.396\n",
            "\n",
            "      Epoch    GPU_mem   box_loss   cls_loss   dfl_loss  Instances       Size\n",
            "     21/100      10.9G      1.334     0.6008       1.06         11        640: 100% 176/176 [02:01<00:00,  1.45it/s]\n",
            "                 Class     Images  Instances      Box(P          R      mAP50  mAP50-95): 100% 26/26 [00:11<00:00,  2.21it/s]\n",
            "                   all        802        802      0.908      0.665      0.797      0.448\n",
            "\n",
            "      Epoch    GPU_mem   box_loss   cls_loss   dfl_loss  Instances       Size\n",
            "     22/100      10.9G      1.311     0.5901      1.039          6        640: 100% 176/176 [02:00<00:00,  1.46it/s]\n",
            "                 Class     Images  Instances      Box(P          R      mAP50  mAP50-95): 100% 26/26 [00:12<00:00,  2.12it/s]\n",
            "                   all        802        802      0.874      0.684      0.786      0.457\n",
            "\n",
            "      Epoch    GPU_mem   box_loss   cls_loss   dfl_loss  Instances       Size\n",
            "     23/100      10.9G      1.349     0.6045      1.058         11        640: 100% 176/176 [02:00<00:00,  1.46it/s]\n",
            "                 Class     Images  Instances      Box(P          R      mAP50  mAP50-95): 100% 26/26 [00:11<00:00,  2.18it/s]\n",
            "                   all        802        802       0.91      0.643      0.775      0.433\n",
            "\n",
            "      Epoch    GPU_mem   box_loss   cls_loss   dfl_loss  Instances       Size\n",
            "     24/100      10.9G      1.329     0.5937      1.056         12        640: 100% 176/176 [02:00<00:00,  1.46it/s]\n",
            "                 Class     Images  Instances      Box(P          R      mAP50  mAP50-95): 100% 26/26 [00:12<00:00,  2.16it/s]\n",
            "                   all        802        802       0.88      0.704       0.79      0.448\n",
            "\n",
            "      Epoch    GPU_mem   box_loss   cls_loss   dfl_loss  Instances       Size\n",
            "     25/100      10.9G      1.297     0.5831      1.029          6        640: 100% 176/176 [02:00<00:00,  1.46it/s]\n",
            "                 Class     Images  Instances      Box(P          R      mAP50  mAP50-95): 100% 26/26 [00:12<00:00,  2.09it/s]\n",
            "                   all        802        802      0.848      0.633      0.696      0.372\n",
            "\n",
            "      Epoch    GPU_mem   box_loss   cls_loss   dfl_loss  Instances       Size\n",
            "     26/100      10.9G      1.312     0.5698      1.038          7        640: 100% 176/176 [02:00<00:00,  1.46it/s]\n",
            "                 Class     Images  Instances      Box(P          R      mAP50  mAP50-95): 100% 26/26 [00:12<00:00,  2.10it/s]\n",
            "                   all        802        802      0.827      0.672      0.775      0.415\n",
            "\n",
            "      Epoch    GPU_mem   box_loss   cls_loss   dfl_loss  Instances       Size\n",
            "     27/100      10.9G      1.306     0.5902      1.048          6        640: 100% 176/176 [02:00<00:00,  1.46it/s]\n",
            "                 Class     Images  Instances      Box(P          R      mAP50  mAP50-95): 100% 26/26 [00:12<00:00,  2.16it/s]\n",
            "                   all        802        802        0.9       0.68      0.788      0.429\n",
            "\n",
            "      Epoch    GPU_mem   box_loss   cls_loss   dfl_loss  Instances       Size\n",
            "     28/100      10.9G      1.307     0.5949       1.05          8        640: 100% 176/176 [02:00<00:00,  1.46it/s]\n",
            "                 Class     Images  Instances      Box(P          R      mAP50  mAP50-95): 100% 26/26 [00:12<00:00,  2.14it/s]\n",
            "                   all        802        802      0.903      0.706      0.798      0.453\n",
            "\n",
            "      Epoch    GPU_mem   box_loss   cls_loss   dfl_loss  Instances       Size\n",
            "     29/100      10.9G       1.28     0.5717      1.025          7        640: 100% 176/176 [02:00<00:00,  1.46it/s]\n",
            "                 Class     Images  Instances      Box(P          R      mAP50  mAP50-95): 100% 26/26 [00:12<00:00,  2.11it/s]\n",
            "                   all        802        802      0.863      0.692      0.761      0.433\n",
            "\n",
            "      Epoch    GPU_mem   box_loss   cls_loss   dfl_loss  Instances       Size\n",
            "     30/100      10.9G      1.301      0.581      1.057          7        640: 100% 176/176 [02:00<00:00,  1.46it/s]\n",
            "                 Class     Images  Instances      Box(P          R      mAP50  mAP50-95): 100% 26/26 [00:12<00:00,  2.03it/s]\n",
            "                   all        802        802      0.869      0.673      0.792      0.456\n",
            "\n",
            "      Epoch    GPU_mem   box_loss   cls_loss   dfl_loss  Instances       Size\n",
            "     31/100      10.9G      1.285     0.5736      1.048          6        640: 100% 176/176 [02:00<00:00,  1.46it/s]\n",
            "                 Class     Images  Instances      Box(P          R      mAP50  mAP50-95): 100% 26/26 [00:13<00:00,  1.97it/s]\n",
            "                   all        802        802      0.881      0.688      0.796      0.449\n",
            "\n",
            "      Epoch    GPU_mem   box_loss   cls_loss   dfl_loss  Instances       Size\n",
            "     32/100      10.9G      1.277     0.5591       1.03          7        640: 100% 176/176 [02:01<00:00,  1.45it/s]\n",
            "                 Class     Images  Instances      Box(P          R      mAP50  mAP50-95): 100% 26/26 [00:12<00:00,  2.01it/s]\n",
            "                   all        802        802      0.907      0.692      0.786      0.435\n",
            "\n",
            "      Epoch    GPU_mem   box_loss   cls_loss   dfl_loss  Instances       Size\n",
            "     33/100      10.9G      1.299     0.5774      1.037          2        640: 100% 176/176 [02:00<00:00,  1.46it/s]\n",
            "                 Class     Images  Instances      Box(P          R      mAP50  mAP50-95): 100% 26/26 [00:12<00:00,  2.12it/s]\n",
            "                   all        802        802      0.879      0.683      0.776      0.442\n",
            "\n",
            "      Epoch    GPU_mem   box_loss   cls_loss   dfl_loss  Instances       Size\n",
            "     34/100      10.9G      1.268     0.5549      1.031          7        640: 100% 176/176 [02:00<00:00,  1.46it/s]\n",
            "                 Class     Images  Instances      Box(P          R      mAP50  mAP50-95): 100% 26/26 [00:12<00:00,  2.02it/s]\n",
            "                   all        802        802      0.875      0.672      0.761      0.435\n",
            "\n",
            "      Epoch    GPU_mem   box_loss   cls_loss   dfl_loss  Instances       Size\n",
            "     35/100      10.9G      1.306     0.5775      1.039          6        640: 100% 176/176 [02:00<00:00,  1.46it/s]\n",
            "                 Class     Images  Instances      Box(P          R      mAP50  mAP50-95): 100% 26/26 [00:12<00:00,  2.07it/s]\n",
            "                   all        802        802      0.878      0.695      0.781      0.442\n",
            "\n",
            "      Epoch    GPU_mem   box_loss   cls_loss   dfl_loss  Instances       Size\n",
            "     36/100      10.9G      1.273     0.5533       1.03         18        640: 100% 176/176 [02:00<00:00,  1.46it/s]\n",
            "                 Class     Images  Instances      Box(P          R      mAP50  mAP50-95): 100% 26/26 [00:12<00:00,  2.10it/s]\n",
            "                   all        802        802      0.887      0.702      0.798      0.452\n",
            "\n",
            "      Epoch    GPU_mem   box_loss   cls_loss   dfl_loss  Instances       Size\n",
            "     37/100      10.9G      1.269     0.5576      1.039          9        640: 100% 176/176 [02:00<00:00,  1.46it/s]\n",
            "                 Class     Images  Instances      Box(P          R      mAP50  mAP50-95): 100% 26/26 [00:12<00:00,  2.14it/s]\n",
            "                   all        802        802      0.927      0.693      0.797      0.461\n",
            "\n",
            "      Epoch    GPU_mem   box_loss   cls_loss   dfl_loss  Instances       Size\n",
            "     38/100      10.9G      1.266     0.5447      1.036          9        640: 100% 176/176 [02:00<00:00,  1.46it/s]\n",
            "                 Class     Images  Instances      Box(P          R      mAP50  mAP50-95): 100% 26/26 [00:12<00:00,  2.12it/s]\n",
            "                   all        802        802      0.903      0.676      0.789      0.451\n",
            "\n",
            "      Epoch    GPU_mem   box_loss   cls_loss   dfl_loss  Instances       Size\n",
            "     39/100      10.9G      1.281     0.5505      1.049          7        640: 100% 176/176 [02:00<00:00,  1.46it/s]\n",
            "                 Class     Images  Instances      Box(P          R      mAP50  mAP50-95): 100% 26/26 [00:12<00:00,  2.09it/s]\n",
            "                   all        802        802      0.874      0.686      0.796      0.441\n",
            "\n",
            "      Epoch    GPU_mem   box_loss   cls_loss   dfl_loss  Instances       Size\n",
            "     40/100      10.9G      1.278     0.5573      1.038         11        640: 100% 176/176 [02:00<00:00,  1.46it/s]\n",
            "                 Class     Images  Instances      Box(P          R      mAP50  mAP50-95): 100% 26/26 [00:12<00:00,  2.09it/s]\n",
            "                   all        802        802      0.895       0.69      0.803      0.456\n",
            "\n",
            "      Epoch    GPU_mem   box_loss   cls_loss   dfl_loss  Instances       Size\n",
            "     41/100      10.9G      1.262     0.5437      1.039          7        640: 100% 176/176 [02:00<00:00,  1.46it/s]\n",
            "                 Class     Images  Instances      Box(P          R      mAP50  mAP50-95): 100% 26/26 [00:12<00:00,  2.09it/s]\n",
            "                   all        802        802      0.889      0.706      0.803      0.466\n",
            "\n",
            "      Epoch    GPU_mem   box_loss   cls_loss   dfl_loss  Instances       Size\n",
            "     42/100      10.9G      1.277     0.5533      1.044          5        640: 100% 176/176 [02:00<00:00,  1.46it/s]\n",
            "                 Class     Images  Instances      Box(P          R      mAP50  mAP50-95): 100% 26/26 [00:12<00:00,  2.13it/s]\n",
            "                   all        802        802      0.864      0.697      0.778       0.44\n",
            "\n",
            "      Epoch    GPU_mem   box_loss   cls_loss   dfl_loss  Instances       Size\n",
            "     43/100      10.9G      1.264     0.5558      1.024          7        640: 100% 176/176 [02:00<00:00,  1.46it/s]\n",
            "                 Class     Images  Instances      Box(P          R      mAP50  mAP50-95): 100% 26/26 [00:12<00:00,  2.09it/s]\n",
            "                   all        802        802      0.881      0.701      0.816      0.461\n",
            "\n",
            "      Epoch    GPU_mem   box_loss   cls_loss   dfl_loss  Instances       Size\n",
            "     44/100      10.9G      1.261     0.5466      1.037          9        640: 100% 176/176 [02:00<00:00,  1.46it/s]\n",
            "                 Class     Images  Instances      Box(P          R      mAP50  mAP50-95): 100% 26/26 [00:11<00:00,  2.18it/s]\n",
            "                   all        802        802      0.888      0.717      0.802       0.47\n",
            "\n",
            "      Epoch    GPU_mem   box_loss   cls_loss   dfl_loss  Instances       Size\n",
            "     45/100      10.9G      1.258     0.5385      1.019          6        640: 100% 176/176 [02:00<00:00,  1.46it/s]\n",
            "                 Class     Images  Instances      Box(P          R      mAP50  mAP50-95): 100% 26/26 [00:12<00:00,  2.15it/s]\n",
            "                   all        802        802      0.896      0.683      0.794      0.467\n",
            "\n",
            "      Epoch    GPU_mem   box_loss   cls_loss   dfl_loss  Instances       Size\n",
            "     46/100      10.9G      1.276     0.5431      1.039          9        640: 100% 176/176 [02:00<00:00,  1.46it/s]\n",
            "                 Class     Images  Instances      Box(P          R      mAP50  mAP50-95): 100% 26/26 [00:12<00:00,  2.11it/s]\n",
            "                   all        802        802      0.868      0.713      0.777      0.447\n",
            "\n",
            "      Epoch    GPU_mem   box_loss   cls_loss   dfl_loss  Instances       Size\n",
            "     47/100      10.9G      1.272      0.545      1.024          3        640: 100% 176/176 [02:00<00:00,  1.46it/s]\n",
            "                 Class     Images  Instances      Box(P          R      mAP50  mAP50-95): 100% 26/26 [00:11<00:00,  2.20it/s]\n",
            "                   all        802        802      0.898      0.698       0.82      0.481\n",
            "\n",
            "      Epoch    GPU_mem   box_loss   cls_loss   dfl_loss  Instances       Size\n",
            "     48/100      10.9G      1.271     0.5445      1.045          6        640: 100% 176/176 [02:01<00:00,  1.45it/s]\n",
            "                 Class     Images  Instances      Box(P          R      mAP50  mAP50-95): 100% 26/26 [00:12<00:00,  2.02it/s]\n",
            "                   all        802        802      0.906      0.698      0.806      0.466\n",
            "\n",
            "      Epoch    GPU_mem   box_loss   cls_loss   dfl_loss  Instances       Size\n",
            "     49/100      10.9G      1.239     0.5417      1.033         11        640: 100% 176/176 [02:01<00:00,  1.45it/s]\n",
            "                 Class     Images  Instances      Box(P          R      mAP50  mAP50-95): 100% 26/26 [00:12<00:00,  2.12it/s]\n",
            "                   all        802        802      0.871      0.537      0.631       0.37\n",
            "\n",
            "      Epoch    GPU_mem   box_loss   cls_loss   dfl_loss  Instances       Size\n",
            "     50/100      10.9G      1.251     0.5306      1.026         12        640: 100% 176/176 [02:00<00:00,  1.46it/s]\n",
            "                 Class     Images  Instances      Box(P          R      mAP50  mAP50-95): 100% 26/26 [00:12<00:00,  2.07it/s]\n",
            "                   all        802        802      0.886       0.72      0.812      0.459\n",
            "\n",
            "      Epoch    GPU_mem   box_loss   cls_loss   dfl_loss  Instances       Size\n",
            "     51/100      10.9G      1.265     0.5324      1.034         11        640: 100% 176/176 [02:01<00:00,  1.45it/s]\n",
            "                 Class     Images  Instances      Box(P          R      mAP50  mAP50-95): 100% 26/26 [00:12<00:00,  2.09it/s]\n",
            "                   all        802        802      0.892      0.711      0.814      0.448\n",
            "\n",
            "      Epoch    GPU_mem   box_loss   cls_loss   dfl_loss  Instances       Size\n",
            "     52/100      10.9G      1.238     0.5332      1.015          8        640: 100% 176/176 [02:00<00:00,  1.46it/s]\n",
            "                 Class     Images  Instances      Box(P          R      mAP50  mAP50-95): 100% 26/26 [00:13<00:00,  1.98it/s]\n",
            "                   all        802        802      0.905      0.697      0.784       0.45\n",
            "\n",
            "      Epoch    GPU_mem   box_loss   cls_loss   dfl_loss  Instances       Size\n",
            "     53/100      10.9G      1.232     0.5164      1.019         10        640: 100% 176/176 [02:01<00:00,  1.45it/s]\n",
            "                 Class     Images  Instances      Box(P          R      mAP50  mAP50-95): 100% 26/26 [00:12<00:00,  2.05it/s]\n",
            "                   all        802        802      0.901      0.696      0.788      0.455\n",
            "\n",
            "      Epoch    GPU_mem   box_loss   cls_loss   dfl_loss  Instances       Size\n",
            "     54/100      10.9G      1.215       0.52      1.033         10        640: 100% 176/176 [02:01<00:00,  1.45it/s]\n",
            "                 Class     Images  Instances      Box(P          R      mAP50  mAP50-95): 100% 26/26 [00:13<00:00,  1.95it/s]\n",
            "                   all        802        802      0.865      0.711      0.795      0.469\n",
            "\n",
            "      Epoch    GPU_mem   box_loss   cls_loss   dfl_loss  Instances       Size\n",
            "     55/100      10.9G      1.256     0.5314      1.028          7        640: 100% 176/176 [02:01<00:00,  1.45it/s]\n",
            "                 Class     Images  Instances      Box(P          R      mAP50  mAP50-95): 100% 26/26 [00:12<00:00,  2.15it/s]\n",
            "                   all        802        802      0.879       0.71      0.809      0.462\n",
            "\n",
            "      Epoch    GPU_mem   box_loss   cls_loss   dfl_loss  Instances       Size\n",
            "     56/100      10.9G      1.232     0.5277      1.019          8        640: 100% 176/176 [02:00<00:00,  1.46it/s]\n",
            "                 Class     Images  Instances      Box(P          R      mAP50  mAP50-95): 100% 26/26 [00:12<00:00,  2.10it/s]\n",
            "                   all        802        802        0.9      0.721      0.803      0.453\n",
            "\n",
            "      Epoch    GPU_mem   box_loss   cls_loss   dfl_loss  Instances       Size\n",
            "     57/100      10.9G      1.245     0.5289      1.039          7        640: 100% 176/176 [02:00<00:00,  1.46it/s]\n",
            "                 Class     Images  Instances      Box(P          R      mAP50  mAP50-95): 100% 26/26 [00:12<00:00,  2.07it/s]\n",
            "                   all        802        802      0.898      0.687       0.79      0.457\n",
            "\n",
            "      Epoch    GPU_mem   box_loss   cls_loss   dfl_loss  Instances       Size\n",
            "     58/100      10.9G      1.221     0.5214      1.035          3        640: 100% 176/176 [02:00<00:00,  1.45it/s]\n",
            "                 Class     Images  Instances      Box(P          R      mAP50  mAP50-95): 100% 26/26 [00:12<00:00,  2.11it/s]\n",
            "                   all        802        802      0.885      0.708      0.806      0.468\n",
            "\n",
            "      Epoch    GPU_mem   box_loss   cls_loss   dfl_loss  Instances       Size\n",
            "     59/100      10.9G      1.256     0.5343      1.037          6        640: 100% 176/176 [02:01<00:00,  1.45it/s]\n",
            "                 Class     Images  Instances      Box(P          R      mAP50  mAP50-95): 100% 26/26 [00:12<00:00,  2.08it/s]\n",
            "                   all        802        802      0.919      0.706      0.813      0.472\n",
            "\n",
            "      Epoch    GPU_mem   box_loss   cls_loss   dfl_loss  Instances       Size\n",
            "     60/100      10.9G      1.249      0.527      1.033          9        640: 100% 176/176 [02:01<00:00,  1.45it/s]\n",
            "                 Class     Images  Instances      Box(P          R      mAP50  mAP50-95): 100% 26/26 [00:12<00:00,  2.09it/s]\n",
            "                   all        802        802      0.879      0.695      0.792      0.468\n",
            "\n",
            "      Epoch    GPU_mem   box_loss   cls_loss   dfl_loss  Instances       Size\n",
            "     61/100      10.9G      1.238     0.5281      1.024         10        640: 100% 176/176 [02:00<00:00,  1.45it/s]\n",
            "                 Class     Images  Instances      Box(P          R      mAP50  mAP50-95): 100% 26/26 [00:12<00:00,  2.05it/s]\n",
            "                   all        802        802      0.913       0.71      0.816      0.474\n",
            "\n",
            "      Epoch    GPU_mem   box_loss   cls_loss   dfl_loss  Instances       Size\n",
            "     62/100      10.9G      1.237      0.521      1.043          5        640: 100% 176/176 [02:00<00:00,  1.46it/s]\n",
            "                 Class     Images  Instances      Box(P          R      mAP50  mAP50-95): 100% 26/26 [00:12<00:00,  2.03it/s]\n",
            "                   all        802        802      0.905      0.702      0.817      0.476\n",
            "\n",
            "      Epoch    GPU_mem   box_loss   cls_loss   dfl_loss  Instances       Size\n",
            "     63/100      10.9G      1.224     0.5128      1.026          9        640: 100% 176/176 [02:01<00:00,  1.45it/s]\n",
            "                 Class     Images  Instances      Box(P          R      mAP50  mAP50-95): 100% 26/26 [00:12<00:00,  2.16it/s]\n",
            "                   all        802        802      0.897      0.715      0.824      0.483\n",
            "\n",
            "      Epoch    GPU_mem   box_loss   cls_loss   dfl_loss  Instances       Size\n",
            "     64/100      10.9G      1.219     0.5343       1.02         26        640:  34% 60/176 [00:41<01:19,  1.46it/s]"
          ]
        }
      ]
    },
    {
      "cell_type": "code",
      "source": [
        "task4.close()"
      ],
      "metadata": {
        "id": "nySrm7CWNinB"
      },
      "execution_count": null,
      "outputs": []
    },
    {
      "cell_type": "markdown",
      "metadata": {
        "id": "xnPq3LAa_65w"
      },
      "source": [
        "#Run Inference  With Trained Weights\n",
        "Run inference with a pretrained checkpoint on contents of `test/images` folder downloaded from Roboflow."
      ]
    },
    {
      "cell_type": "code",
      "execution_count": null,
      "metadata": {
        "colab": {
          "base_uri": "https://localhost:8080/"
        },
        "id": "xQqbEPyyBDbw",
        "outputId": "b6b1843d-7763-48e9-91de-d61eb9f31f70"
      },
      "outputs": [
        {
          "output_type": "stream",
          "name": "stdout",
          "text": [
            "best.pt  last.pt\n"
          ]
        }
      ],
      "source": [
        "%ls runs/train/yolov5l_results/weights"
      ]
    },
    {
      "cell_type": "code",
      "execution_count": 5,
      "metadata": {
        "colab": {
          "base_uri": "https://localhost:8080/"
        },
        "outputId": "e90ce7fc-bdc9-41ff-d34c-a8bf68c5829c",
        "id": "q7gauHTS_5cj"
      },
      "outputs": [
        {
          "output_type": "stream",
          "name": "stdout",
          "text": [
            "ClearML Task: created new task id=338462c9ba844b2b8b460b521f515d88\n"
          ]
        },
        {
          "output_type": "stream",
          "name": "stderr",
          "text": [
            "WARNING:tensorflow:Please fix your imports. Module tensorflow.python.training.tracking.util has been moved to tensorflow.python.checkpoint.checkpoint. The old module will be deleted in version 2.11.\n"
          ]
        },
        {
          "output_type": "stream",
          "name": "stdout",
          "text": [
            "ClearML results page: https://app.clear.ml/projects/3447e370f16d49f09a6eec0b62466e5a/experiments/338462c9ba844b2b8b460b521f515d88/output/log\n",
            "2023-06-07 08:44:57,073 - clearml.Task - INFO - Storing jupyter notebook directly as code\n",
            "Ultralytics YOLOv8.0.114 🚀 Python-3.10.11 torch-2.0.1+cu118 CUDA:0 (Tesla T4, 15102MiB)\n",
            "Model summary (fused): 168 layers, 3005843 parameters, 0 gradients\n",
            "Downloading https://ultralytics.com/assets/Arial.ttf to /root/.config/Ultralytics/Arial.ttf...\n",
            "100% 755k/755k [00:00<00:00, 42.5MB/s]\n",
            "\u001b[34m\u001b[1mval: \u001b[0mScanning /content/UAVs-hunting-1/valid/labels... 802 images, 0 backgrounds, 0 corrupt: 100% 802/802 [00:00<00:00, 1649.15it/s]\n",
            "\u001b[34m\u001b[1mval: \u001b[0mNew cache created: /content/UAVs-hunting-1/valid/labels.cache\n",
            "                 Class     Images  Instances      Box(P          R      mAP50  mAP50-95):  90% 46/51 [00:12<00:01,  3.58it/s]"
          ]
        },
        {
          "output_type": "stream",
          "name": "stderr",
          "text": [
            "/usr/local/lib/python3.10/dist-packages/nbconvert/filters/widgetsdatatypefilter.py:71: UserWarning:\n",
            "\n",
            "Your element with mimetype(s) dict_keys(['application/vnd.colab-display-data+json']) is not able to be represented.\n",
            "\n"
          ]
        },
        {
          "output_type": "stream",
          "name": "stdout",
          "text": [
            "                 Class     Images  Instances      Box(P          R      mAP50  mAP50-95): 100% 51/51 [00:13<00:00,  3.65it/s]\n",
            "                   all        802        802      0.979      0.698      0.842      0.545\n",
            "WARNING:tensorflow:Please fix your imports. Module tensorflow.python.training.tracking.util has been moved to tensorflow.python.checkpoint.checkpoint. The old module will be deleted in version 2.11.\n",
            "Speed: 0.3ms preprocess, 3.2ms inference, 0.0ms loss, 1.7ms postprocess per image\n",
            "Results saved to \u001b[1mruns/detect/val\u001b[0m\n"
          ]
        }
      ],
      "source": [
        "task5 = Task.init(project_name='Drone-detect/best-model', task_name='Evaluate-YoloV8n')\n",
        "!yolo task=detect mode=val model=/content/drive/MyDrive/КМА/Master-Diploma/weights/best-yolov8n.pt data={dataset.location}/data.yaml device=0 conf=0.4 plots=true\n",
        "task5.close()"
      ]
    },
    {
      "cell_type": "code",
      "execution_count": 6,
      "metadata": {
        "colab": {
          "base_uri": "https://localhost:8080/"
        },
        "outputId": "c5961189-c803-4a80-a2f8-e68a3a69469b",
        "id": "pDN6F1ljCH2y"
      },
      "outputs": [
        {
          "output_type": "stream",
          "name": "stdout",
          "text": [
            "ClearML Task: created new task id=10470a9d3be340dc8bca798cbed78bb5\n",
            "ClearML results page: https://app.clear.ml/projects/3447e370f16d49f09a6eec0b62466e5a/experiments/10470a9d3be340dc8bca798cbed78bb5/output/log\n",
            "Ultralytics YOLOv8.0.114 🚀 Python-3.10.11 torch-2.0.1+cu118 CUDA:0 (Tesla T4, 15102MiB)\n",
            "Model summary (fused): 168 layers, 11125971 parameters, 0 gradients\n",
            "\u001b[34m\u001b[1mval: \u001b[0mScanning /content/UAVs-hunting-1/valid/labels.cache... 802 images, 0 backgrounds, 0 corrupt: 100% 802/802 [00:00<?, ?it/s]\n",
            "                 Class     Images  Instances      Box(P          R      mAP50  mAP50-95): 100% 51/51 [00:12<00:00,  3.94it/s]\n",
            "                   all        802        802      0.983      0.706      0.849      0.546\n"
          ]
        },
        {
          "output_type": "stream",
          "name": "stderr",
          "text": [
            "/usr/local/lib/python3.10/dist-packages/nbconvert/filters/widgetsdatatypefilter.py:71: UserWarning:\n",
            "\n",
            "Your element with mimetype(s) dict_keys(['application/vnd.colab-display-data+json']) is not able to be represented.\n",
            "\n"
          ]
        },
        {
          "output_type": "stream",
          "name": "stdout",
          "text": [
            "WARNING:tensorflow:Please fix your imports. Module tensorflow.python.training.tracking.util has been moved to tensorflow.python.checkpoint.checkpoint. The old module will be deleted in version 2.11.\n",
            "Speed: 0.3ms preprocess, 5.4ms inference, 0.0ms loss, 2.1ms postprocess per image\n",
            "Results saved to \u001b[1mruns/detect/val2\u001b[0m\n"
          ]
        }
      ],
      "source": [
        "task6 = Task.init(project_name='Drone-detect/best-model', task_name='Evaluate-YoloV8s')\n",
        "!yolo task=detect mode=val model=/content/drive/MyDrive/КМА/Master-Diploma/weights/best-yolov8s.pt data={dataset.location}/data.yaml device=0 conf=0.4 plots=true\n",
        "task6.close()"
      ]
    },
    {
      "cell_type": "code",
      "execution_count": 9,
      "metadata": {
        "colab": {
          "base_uri": "https://localhost:8080/"
        },
        "outputId": "fdd069d1-487d-42bf-81dc-3f56a5b1e758",
        "id": "mdBAL_zyCQdz"
      },
      "outputs": [
        {
          "output_type": "stream",
          "name": "stdout",
          "text": [
            "ClearML Task: created new task id=ec77632670d6480c820b528220fce767\n",
            "ClearML results page: https://app.clear.ml/projects/3447e370f16d49f09a6eec0b62466e5a/experiments/ec77632670d6480c820b528220fce767/output/log\n",
            "Ultralytics YOLOv8.0.114 🚀 Python-3.10.11 torch-2.0.1+cu118 CUDA:0 (Tesla T4, 15102MiB)\n",
            "Model summary (fused): 218 layers, 25840339 parameters, 0 gradients\n",
            "\u001b[34m\u001b[1mval: \u001b[0mScanning /content/UAVs-hunting-1/valid/labels.cache... 802 images, 0 backgrounds, 0 corrupt: 100% 802/802 [00:00<?, ?it/s]\n",
            "                 Class     Images  Instances      Box(P          R      mAP50  mAP50-95): 100% 51/51 [00:14<00:00,  3.57it/s]\n",
            "                   all        802        802      0.966      0.635      0.808      0.534\n",
            "WARNING:tensorflow:Please fix your imports. Module tensorflow.python.training.tracking.util has been moved to tensorflow.python.checkpoint.checkpoint. The old module will be deleted in version 2.11.\n",
            "Speed: 0.3ms preprocess, 11.2ms inference, 0.0ms loss, 1.2ms postprocess per image\n",
            "Results saved to \u001b[1mruns/detect/val3\u001b[0m\n"
          ]
        },
        {
          "output_type": "stream",
          "name": "stderr",
          "text": [
            "/usr/local/lib/python3.10/dist-packages/nbconvert/filters/widgetsdatatypefilter.py:71: UserWarning:\n",
            "\n",
            "Your element with mimetype(s) dict_keys(['application/vnd.colab-display-data+json']) is not able to be represented.\n",
            "\n"
          ]
        }
      ],
      "source": [
        "task7 = Task.init(project_name='Drone-detect/best-model', task_name='Evaluate-YoloV8m')\n",
        "!yolo task=detect mode=val model=/content/drive/MyDrive/КМА/Master-Diploma/weights/best-yolo8m.pt data={dataset.location}/data.yaml device=0 conf=0.4 plots=true\n",
        "task7.close()"
      ]
    }
  ],
  "metadata": {
    "accelerator": "GPU",
    "colab": {
      "machine_shape": "hm",
      "provenance": [],
      "mount_file_id": "1oNuXv5H6mZPFxlpMMdqokA2tamBFQNCL",
      "authorship_tag": "ABX9TyNL3ExALaKZ0umvtRR2YxIF",
      "include_colab_link": true
    },
    "kernelspec": {
      "display_name": "Python 3",
      "name": "python3"
    },
    "language_info": {
      "name": "python"
    }
  },
  "nbformat": 4,
  "nbformat_minor": 0
}